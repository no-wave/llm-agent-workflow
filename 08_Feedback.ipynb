{
 "cells": [
  {
   "cell_type": "markdown",
   "metadata": {},
   "source": [
    "# Agent: Feedback"
   ]
  },
  {
   "cell_type": "markdown",
   "metadata": {},
   "source": [
    "이 튜토리얼을 통해 다음을 배울 수 있다:\n",
    "\n",
    "- 인간 참여형(Human-in-the-loop) 워크플로우의 필요성을 이해한다.\n",
    "- 승인 및 거부 메커니즘을 구현한다.\n",
    "- 피드백 기반 개선 루프를 만든다.\n",
    "- 다양한 승인 패턴을 실전에 적용한다."
   ]
  },
  {
   "cell_type": "markdown",
   "metadata": {},
   "source": [
    "## 1. 환경 설정"
   ]
  },
  {
   "cell_type": "markdown",
   "metadata": {},
   "source": [
    "### 1.1 필요한 라이브러리 설치"
   ]
  },
  {
   "cell_type": "code",
   "execution_count": null,
   "metadata": {},
   "outputs": [],
   "source": [
    "%pip install openai python-dotenv"
   ]
  },
  {
   "cell_type": "markdown",
   "metadata": {},
   "source": [
    "### 1.2 환경 설정"
   ]
  },
  {
   "cell_type": "code",
   "execution_count": 1,
   "metadata": {
    "tags": []
   },
   "outputs": [
    {
     "data": {
      "text/plain": [
       "True"
      ]
     },
     "execution_count": 1,
     "metadata": {},
     "output_type": "execute_result"
    }
   ],
   "source": [
    "from dotenv import load_dotenv\n",
    "import os\n",
    "\n",
    "load_dotenv()"
   ]
  },
  {
   "cell_type": "markdown",
   "metadata": {},
   "source": [
    "### 1.3 필요한 라이브러리 가져오기"
   ]
  },
  {
   "cell_type": "code",
   "execution_count": 4,
   "metadata": {
    "tags": []
   },
   "outputs": [],
   "source": [
    "from openai import OpenAI\n",
    "from typing import Optional\n",
    "from enum import Enum\n",
    "\n",
    "MODEL = \"gpt-4o-mini\"\n",
    "\n",
    "client = OpenAI()"
   ]
  },
  {
   "cell_type": "markdown",
   "metadata": {},
   "source": [
    "## 2. 기본 승인 워크플로우"
   ]
  },
  {
   "cell_type": "markdown",
   "metadata": {},
   "source": [
    "### 2.1 단순 승인 시스템\n",
    "가장 기본적인 승인/거부 메커니즘이다."
   ]
  },
  {
   "cell_type": "code",
   "execution_count": 5,
   "metadata": {
    "tags": []
   },
   "outputs": [
    {
     "name": "stdout",
     "output_type": "stream",
     "text": [
      "\n",
      "생성된 내용:\n",
      "기술의 바다, 광활한 꿈,  \n",
      "코드의 파도, 무한한 회상.  \n",
      "손끝으로 여는 새로운 세계,  \n",
      "정보의 빛, 어둠을 가르며.  \n",
      "\n",
      "기계의 노래, 진화를 담고,  \n",
      "인간의 마음, 사이를 잇고.  \n",
      "서로의 손을, 디지털로 감고,  \n",
      "미래를 향해, 함께 나가리.  \n",
      "\n",
      "--------------------------------------------------\n"
     ]
    },
    {
     "name": "stdin",
     "output_type": "stream",
     "text": [
      "승인하시겠습니까? (y/n):  y\n"
     ]
    },
    {
     "name": "stdout",
     "output_type": "stream",
     "text": [
      "\n",
      "승인됨\n",
      "\n",
      "--- 최종 결과물 ---\n",
      " 기술의 바다, 광활한 꿈,  \n",
      "코드의 파도, 무한한 회상.  \n",
      "손끝으로 여는 새로운 세계,  \n",
      "정보의 빛, 어둠을 가르며.  \n",
      "\n",
      "기계의 노래, 진화를 담고,  \n",
      "인간의 마음, 사이를 잇고.  \n",
      "서로의 손을, 디지털로 감고,  \n",
      "미래를 향해, 함께 나가리.  \n"
     ]
    }
   ],
   "source": [
    "def get_human_approval(content: str) -> bool:\n",
    "    \"\"\"사용자로부터 승인 여부를 입력받는 함수다.\"\"\"\n",
    "    print(f\"\\n생성된 내용:\\n{content}\\n\")\n",
    "    print(\"-\" * 50)\n",
    "    \n",
    "    while True:\n",
    "        response = input(\"승인하시겠습니까? (y/n): \").lower().strip()\n",
    "        if response in ['y', 'yes']:\n",
    "            return True\n",
    "        elif response in ['n', 'no']:\n",
    "            return False\n",
    "        else:\n",
    "            print(\"잘못된 입력입니다. 'y' 또는 'n'으로 답해주세요.\")\n",
    "\n",
    "def generate_with_approval(prompt: str) -> Optional[str]:\n",
    "    \"\"\"승인이 포함된 생성 함수다.\"\"\"\n",
    "    response = client.chat.completions.create(\n",
    "        model=MODEL,\n",
    "        messages=[{\"role\": \"user\", \"content\": prompt}]\n",
    "    )\n",
    "    \n",
    "    draft = response.choices[0].message.content\n",
    "    approved = get_human_approval(draft)\n",
    "    \n",
    "    status = \"승인됨\" if approved else \" 거부됨\"\n",
    "    print(f\"\\n{status}\")\n",
    "    \n",
    "    return draft if approved else None\n",
    "\n",
    "# 사용 예시\n",
    "result = generate_with_approval(\"기술에 대한 짧은 시를 작성해줘.\")\n",
    "if result:\n",
    "    print(\"\\n--- 최종 결과물 ---\\n\", result)"
   ]
  },
  {
   "cell_type": "markdown",
   "metadata": {},
   "source": [
    "#### 워크플로우:\n",
    "1. LLM이 초안을 생성한다.\n",
    "2. 사용자에게 내용을 보여준다.\n",
    "3. 승인/거부를 입력받는다.\n",
    "4. 승인된 경우에만 결과를 반환한다."
   ]
  },
  {
   "cell_type": "markdown",
   "metadata": {},
   "source": [
    "### 2.2 개선 루프가 있는 승인\n",
    "거부 시 피드백을 받아 개선하고 재시도하는 시스템이다."
   ]
  },
  {
   "cell_type": "code",
   "execution_count": 6,
   "metadata": {
    "tags": []
   },
   "outputs": [
    {
     "name": "stdout",
     "output_type": "stream",
     "text": [
      "\n",
      "=== 시도 1/3 ===\n",
      "\n",
      "생성된 내용:\n",
      "물론입니다! 아래는 AI 회사를 소개하는 짧은 이메일 초안입니다.\n",
      "\n",
      "---\n",
      "\n",
      "제목: [회사명] 소개 및 협력 제안\n",
      "\n",
      "안녕하세요 [수신자 이름]님,\n",
      "\n",
      "저는 [회사명]의 [직책] [이름]입니다. 저희 회사는 최신 AI 기술을 활용하여 [특정 분야/산업]에서 혁신적인 솔루션을 제공하는 전문 기업입니다. 우리는 [주요 제품/서비스]를 통해 고객의 문제를 해결하고, 업무 효율성을 향상시키는 데 기여하고 있습니다.\n",
      "\n",
      "[회사명]의 솔루션은 [특정 장점 또는 차별점]를 가지고 있어, 고객에게 실질적인 가치를 제공합니다. 앞으로 [수신자 회사명]와의 협력을 통해 더욱 큰 시너지를 낼 수 있기를 기대합니다.\n",
      "\n",
      "혹시 더 궁금한 점이나 논의하고 싶은 사항이 있으시면 언제든지 연락 주시기 바랍니다. 귀하의 소중한 의견을 기다리고 있겠습니다.\n",
      "\n",
      "감사합니다.\n",
      "\n",
      "[이름]  \n",
      "[직책]  \n",
      "[회사명]  \n",
      "[연락처]  \n",
      "[웹사이트]\n",
      "\n",
      "--- \n",
      "\n",
      "이메일 내용을 필요에 따라 수정하시면 됩니다. 도움이 필요하시면 말씀해 주세요!\n",
      "\n",
      "--------------------------------------------------\n"
     ]
    },
    {
     "name": "stdin",
     "output_type": "stream",
     "text": [
      "승인하시겠습니까? (y/n):  y\n"
     ]
    },
    {
     "name": "stdout",
     "output_type": "stream",
     "text": [
      "최종 승인\n"
     ]
    }
   ],
   "source": [
    "def generate_with_improvement_loop(prompt: str, max_iterations: int = 3) -> Optional[str]:\n",
    "    \"\"\"개선 루프가 포함된 생성 함수다.\"\"\"\n",
    "    \n",
    "    messages = [{\"role\": \"user\", \"content\": prompt}]\n",
    "    \n",
    "    for iteration in range(max_iterations):\n",
    "        print(f\"\\n=== 시도 {iteration + 1}/{max_iterations} ===\")\n",
    "        \n",
    "        response = client.chat.completions.create(\n",
    "            model=MODEL,\n",
    "            messages=messages\n",
    "        )\n",
    "        \n",
    "        draft = response.choices[0].message.content\n",
    "        messages.append({\"role\": \"assistant\", \"content\": draft})\n",
    "        \n",
    "        approved = get_human_approval(draft)\n",
    "        \n",
    "        if approved:\n",
    "            print(\"최종 승인\")\n",
    "            return draft\n",
    "        \n",
    "        if iteration < max_iterations - 1:\n",
    "            feedback = input(\"개선 사항을 입력하세요: \")\n",
    "            messages.append({\"role\": \"user\", \"content\": f\"피드백: {feedback}. 이 피드백을 반영하여 수정해주세요.\"})\n",
    "    \n",
    "    print(\" 최대 시도 횟수에 도달했습니다.\")\n",
    "    return None\n",
    "\n",
    "# 사용 예시\n",
    "result = generate_with_improvement_loop(\"우리 AI 회사를 소개하는 짧은 이메일 초안을 작성해줘\")"
   ]
  },
  {
   "cell_type": "markdown",
   "metadata": {},
   "source": [
    "### 2.3 상세 피드백 수집\n",
    "단순 승인/거부를 넘어 상세한 피드백을 받는다."
   ]
  },
  {
   "cell_type": "code",
   "execution_count": 7,
   "metadata": {
    "tags": []
   },
   "outputs": [
    {
     "name": "stdout",
     "output_type": "stream",
     "text": [
      "\n",
      "생성된 내용:\n",
      "여기에 AI가 생성한 마케팅 문구가 들어갑니다.\n",
      "\n",
      "--------------------------------------------------\n",
      "\n",
      "옵션을 선택하세요:\n",
      "1. 승인 (approve)\n",
      "2. 수정 요청 (revise)\n",
      "3. 거부 (reject)\n"
     ]
    },
    {
     "name": "stdin",
     "output_type": "stream",
     "text": [
      "선택 (1/2/3):  1\n",
      "평점 (1-5):  5\n"
     ]
    },
    {
     "name": "stdout",
     "output_type": "stream",
     "text": [
      "\n",
      "수집된 피드백: approve\n",
      "코멘트: None\n",
      "평점: 5\n"
     ]
    }
   ],
   "source": [
    "class FeedbackType(str, Enum):\n",
    "    \"\"\"피드백 유형이다.\"\"\"\n",
    "    APPROVE = \"approve\"\n",
    "    REVISE = \"revise\"\n",
    "    REJECT = \"reject\"\n",
    "\n",
    "class DetailedFeedback:\n",
    "    \"\"\"상세 피드백을 수집하는 클래스다.\"\"\"\n",
    "    \n",
    "    def __init__(self):\n",
    "        self.content = None\n",
    "        self.feedback_type = None\n",
    "        self.comments = None\n",
    "        self.rating = None\n",
    "    \n",
    "    def collect(self, content: str):\n",
    "        \"\"\"피드백을 수집한다.\"\"\"\n",
    "        self.content = content\n",
    "        print(f\"\\n생성된 내용:\\n{content}\\n\")\n",
    "        print(\"-\" * 50)\n",
    "        \n",
    "        print(\"\\n옵션을 선택하세요:\")\n",
    "        print(\"1. 승인 (approve)\")\n",
    "        print(\"2. 수정 요청 (revise)\")\n",
    "        print(\"3. 거부 (reject)\")\n",
    "        \n",
    "        choice = input(\"선택 (1/2/3): \")\n",
    "        \n",
    "        feedback_map = {\"1\": FeedbackType.APPROVE, \"2\": FeedbackType.REVISE, \"3\": FeedbackType.REJECT}\n",
    "        self.feedback_type = feedback_map.get(choice, FeedbackType.REVISE)\n",
    "        \n",
    "        if self.feedback_type != FeedbackType.APPROVE:\n",
    "            self.comments = input(\"피드백 내용: \")\n",
    "        \n",
    "        while True:\n",
    "            try:\n",
    "                rating_input = input(\"평점 (1-5): \")\n",
    "                self.rating = int(rating_input)\n",
    "                if 1 <= self.rating <= 5:\n",
    "                    break\n",
    "                else:\n",
    "                    print(\"1에서 5 사이의 숫자를 입력해주세요.\")\n",
    "            except ValueError:\n",
    "                print(\"숫자를 입력해주세요.\")\n",
    "        \n",
    "        return self.feedback_type == FeedbackType.APPROVE\n",
    "\n",
    "# 사용 예시\n",
    "feedback_collector = DetailedFeedback()\n",
    "draft = \"여기에 AI가 생성한 마케팅 문구가 들어갑니다.\"\n",
    "approved = feedback_collector.collect(draft)\n",
    "print(f\"\\n수집된 피드백: {feedback_collector.feedback_type.value}\")\n",
    "print(f\"코멘트: {feedback_collector.comments}\")\n",
    "print(f\"평점: {feedback_collector.rating}\")"
   ]
  },
  {
   "cell_type": "markdown",
   "metadata": {},
   "source": [
    "## 3. 고급 피드백 패턴"
   ]
  },
  {
   "cell_type": "markdown",
   "metadata": {},
   "source": [
    "### 3.1 다단계 승인 프로세스\n",
    "여러 사람의 승인이 필요한 경우를 처리한다."
   ]
  },
  {
   "cell_type": "code",
   "execution_count": 8,
   "metadata": {
    "tags": []
   },
   "outputs": [
    {
     "name": "stdout",
     "output_type": "stream",
     "text": [
      "\n",
      "=== 팀장 승인 단계 ===\n",
      "내용:\n",
      "새로운 서비스 이용 약관 초안입니다.\n",
      "\n"
     ]
    },
    {
     "name": "stdin",
     "output_type": "stream",
     "text": [
      "팀장 승인 (y/n):  y\n"
     ]
    },
    {
     "name": "stdout",
     "output_type": "stream",
     "text": [
      "\n",
      "=== 부서장 승인 단계 ===\n",
      "내용:\n",
      "새로운 서비스 이용 약관 초안입니다.\n",
      "\n"
     ]
    },
    {
     "name": "stdin",
     "output_type": "stream",
     "text": [
      "부서장 승인 (y/n):  y\n"
     ]
    },
    {
     "name": "stdout",
     "output_type": "stream",
     "text": [
      "\n",
      "=== 법무팀 승인 단계 ===\n",
      "내용:\n",
      "새로운 서비스 이용 약관 초안입니다.\n",
      "\n"
     ]
    },
    {
     "name": "stdin",
     "output_type": "stream",
     "text": [
      "법무팀 승인 (y/n):  y\n"
     ]
    },
    {
     "name": "stdout",
     "output_type": "stream",
     "text": [
      " 모든 승인 완료\n"
     ]
    }
   ],
   "source": [
    "class MultiStageApproval:\n",
    "    \"\"\"다단계 승인 시스템이다.\"\"\"\n",
    "    \n",
    "    def __init__(self, approvers: list[str]):\n",
    "        self.approvers = approvers\n",
    "        self.approvals = {}\n",
    "    \n",
    "    def request_approval(self, content: str, stage: str) -> bool:\n",
    "        \"\"\"특정 단계의 승인을 요청한다.\"\"\"\n",
    "        print(f\"\\n=== {stage} 승인 단계 ===\")\n",
    "        print(f\"내용:\\n{content}\\n\")\n",
    "        \n",
    "        response = input(f\"{stage} 승인 (y/n): \")\n",
    "        approved = response.lower().startswith(\"y\")\n",
    "        \n",
    "        self.approvals[stage] = approved\n",
    "        return approved\n",
    "    \n",
    "    def process(self, content: str) -> bool:\n",
    "        \"\"\"모든 단계의 승인을 처리한다.\"\"\"\n",
    "        for approver in self.approvers:\n",
    "            approved = self.request_approval(content, approver)\n",
    "            \n",
    "            if not approved:\n",
    "                print(f\" {approver}에게 거부됨\")\n",
    "                return False\n",
    "        \n",
    "        print(\" 모든 승인 완료\")\n",
    "        return True\n",
    "\n",
    "# 사용 예시\n",
    "approval_system = MultiStageApproval([\"팀장\", \"부서장\", \"법무팀\"])\n",
    "content = \"새로운 서비스 이용 약관 초안입니다.\"\n",
    "final_approved = approval_system.process(content)"
   ]
  },
  {
   "cell_type": "markdown",
   "metadata": {},
   "source": [
    "### 3.2 조건부 승인\n",
    "특정 조건에 따라 자동/수동 승인을 결정한다."
   ]
  },
  {
   "cell_type": "code",
   "execution_count": 9,
   "metadata": {
    "tags": []
   },
   "outputs": [
    {
     "name": "stdout",
     "output_type": "stream",
     "text": [
      "자신감 점수 평가: 0.70\n",
      "수동 승인 필요 (자신감 점수 0.9 미만)\n",
      "\n",
      "생성된 내용:\n",
      "오늘 서울의 날씨는 맑습니다. 기온은 25도입니다.\n",
      "\n",
      "--------------------------------------------------\n"
     ]
    },
    {
     "name": "stdin",
     "output_type": "stream",
     "text": [
      "승인하시겠습니까? (y/n):  y\n"
     ]
    },
    {
     "name": "stdout",
     "output_type": "stream",
     "text": [
      "최종 승인 상태: True\n"
     ]
    }
   ],
   "source": [
    "class ConditionalApproval:\n",
    "    \"\"\"조건부 승인 시스템이다.\"\"\"\n",
    "    \n",
    "    def __init__(self, auto_approve_threshold: float = 0.9):\n",
    "        self.threshold = auto_approve_threshold\n",
    "        self.client = OpenAI()\n",
    "    \n",
    "    def assess_confidence(self, content: str) -> float:\n",
    "        \"\"\"콘텐츠 생성의 자신감 점수를 평가한다.\"\"\"\n",
    "        prompt = f\"\"\"\n",
    "        다음 콘텐츠가 얼마나 사실에 기반하고 비즈니스적으로 안전한지 자신감 점수를 0.0에서 1.0 사이로 평가하라.\n",
    "        0.0 = 매우 불확실하고 위험, 1.0 = 매우 확실하고 안전\n",
    "        \n",
    "        콘텐츠: {content}\n",
    "        \n",
    "        숫자만 반환하라.\n",
    "        \"\"\"\n",
    "        \n",
    "        response = self.client.chat.completions.create(\n",
    "            model=MODEL,\n",
    "            messages=[{\"role\": \"user\", \"content\": prompt}]\n",
    "        )\n",
    "        \n",
    "        try:\n",
    "            confidence_score = float(response.choices[0].message.content.strip())\n",
    "            return confidence_score\n",
    "        except ValueError:\n",
    "            return 0.0 # 파싱 실패 시 가장 안전한 점수로 처리한다\n",
    "    \n",
    "    def process(self, content: str) -> bool:\n",
    "        \"\"\"자신감 점수에 따라 승인을 처리한다.\"\"\"\n",
    "        confidence = self.assess_confidence(content)\n",
    "        print(f\"자신감 점수 평가: {confidence:.2f}\")\n",
    "        \n",
    "        if confidence >= self.threshold:\n",
    "            print(f\"자동 승인됨 (자신감 점수 {self.threshold} 이상)\")\n",
    "            return True\n",
    "        else:\n",
    "            print(f\"수동 승인 필요 (자신감 점수 {self.threshold} 미만)\")\n",
    "            return get_human_approval(content)\n",
    "\n",
    "# 사용 예시\n",
    "conditional_approval = ConditionalApproval(auto_approve_threshold=0.9)\n",
    "approved = conditional_approval.process(\"오늘 서울의 날씨는 맑습니다. 기온은 25도입니다.\")\n",
    "print(\"최종 승인 상태:\", approved)"
   ]
  },
  {
   "cell_type": "markdown",
   "metadata": {},
   "source": [
    "### 3.3 피드백 기반 학습\n",
    "피드백을 수집하여 향후 생성을 개선한다."
   ]
  },
  {
   "cell_type": "code",
   "execution_count": 10,
   "metadata": {
    "tags": []
   },
   "outputs": [
    {
     "name": "stdout",
     "output_type": "stream",
     "text": [
      "\n",
      "=== 라운드 1 ===\n",
      "\n",
      "생성된 내용:\n",
      "물론입니다! 제품의 장점을 강조하는 광고 문구를 몇 가지 제안드립니다.\n",
      "\n",
      "1. \"우리 제품, 당신의 일상을 변화시킵니다! 효율성과 품질을 동시에 잡은 스마트한 선택!\"\n",
      "  \n",
      "2. \"끝없는 가능성, 우리의 제품으로 시작하세요! 혁신적인 성능과 세련된 디자인이 함께합니다.\"\n",
      "\n",
      "3. \"고객의 만족을 최우선으로! 신뢰할 수 있는 품질을 가진 우리의 제품으로 더 나은 내일을 만나세요.\"\n",
      "\n",
      "4. \"특별한 순간을 위한 최상의 선택! 우리의 제품으로 더욱 빛나는 일상을 경험하세요.\"\n",
      "\n",
      "5. \"신뢰할 수 있는 기술과 탁월한 성능! 우리의 제품이 당신의 기대를 뛰어넘습니다.\"\n",
      "\n",
      "필요에 따라 조정하거나 조합하여 사용하시면 좋습니다!\n",
      "\n",
      "--------------------------------------------------\n"
     ]
    },
    {
     "name": "stdin",
     "output_type": "stream",
     "text": [
      "승인하시겠습니까? (y/n):  y\n"
     ]
    },
    {
     "name": "stdout",
     "output_type": "stream",
     "text": [
      "피드백이 기록되었습니다.\n",
      "\n",
      "=== 라운드 2 ===\n",
      "\n",
      "생성된 내용:\n",
      "물론입니다! 제품의 장점을 강조하는 광고 문구를 다음과 같이 제안드립니다:\n",
      "\n",
      "\"당신의 삶을 한층 더 풍요롭게! 우리의 제품은 탁월한 품질과 혁신적인 디자인으로, 매일의 소소한 순간들을 특별하게 만들어드립니다. 지금 바로 경험해보세요!\" \n",
      "\n",
      "어떤 특정 장점이나 특징을 더 강조하길 원하신다면 말씀해 주세요!\n",
      "\n",
      "--------------------------------------------------\n"
     ]
    },
    {
     "name": "stdin",
     "output_type": "stream",
     "text": [
      "승인하시겠습니까? (y/n):  y\n"
     ]
    },
    {
     "name": "stdout",
     "output_type": "stream",
     "text": [
      "피드백이 기록되었습니다.\n",
      "\n",
      "=== 라운드 3 ===\n",
      "\n",
      "생성된 내용:\n",
      "물론입니다! 제품의 장점을 강조하는 광고 문구를 아래와 같이 제안드립니다:\n",
      "\n",
      "1. \"당신의 생활을 더욱 빛나게! 우리 제품으로 매일매일 특별한 경험을 누려보세요.\"\n",
      "   \n",
      "2. \"탁월한 품질, 눈에 띄는 효과! 우리 제품으로 진정한 변화를 경험하세요.\"\n",
      "\n",
      "3. \"더 나은 내일을 위한 스마트한 선택! 우리 제품이 당신의 삶을 한층 더 풍요롭게 만들어 드립니다.\"\n",
      "\n",
      "4. \"신뢰할 수 있는 혁신! 우리가 만든 제품이 당신의 기대를 넘어서겠습니다.\"\n",
      "\n",
      "5. \"가장 소중한 순간을 위해, 저희 제품이 함께합니다. 당신의 행복을 위한 최상의 선택!\"\n",
      "\n",
      "이런 문구들이 제품의 장점을 효과적으로 강조하는 데 도움이 되길 바랍니다. 필요에 따라 조정하거나 추가 요청해 주세요!\n",
      "\n",
      "--------------------------------------------------\n"
     ]
    },
    {
     "name": "stdin",
     "output_type": "stream",
     "text": [
      "승인하시겠습니까? (y/n):  n\n",
      "피드백 코멘트:  없음\n"
     ]
    },
    {
     "name": "stdout",
     "output_type": "stream",
     "text": [
      "피드백이 기록되었습니다.\n"
     ]
    }
   ],
   "source": [
    "class FeedbackLearningSystem:\n",
    "    \"\"\"피드백 기반 학습 시스템이다.\"\"\"\n",
    "    \n",
    "    def __init__(self):\n",
    "        self.feedback_history = []\n",
    "        self.client = OpenAI()\n",
    "    \n",
    "    def generate_with_history(self, prompt: str) -> str:\n",
    "        \"\"\"과거 피드백을 반영하여 생성한다.\"\"\"\n",
    "        context = self._build_context()\n",
    "        \n",
    "        full_prompt = f\"\"\"\n",
    "        사용자 요청: {prompt}\n",
    "        \n",
    "        --- 과거 피드백 ---\n",
    "        {context}\n",
    "        ---------------------\n",
    "        \n",
    "        과거에 거부되었던 피드백을 참고하여 더 나은 결과를 생성하라.\n",
    "        \"\"\"\n",
    "        \n",
    "        response = self.client.chat.completions.create(\n",
    "            model=MODEL,\n",
    "            messages=[{\"role\": \"user\", \"content\": full_prompt}]\n",
    "        )\n",
    "        \n",
    "        return response.choices[0].message.content\n",
    "    \n",
    "    def collect_feedback(self, content: str, approved: bool, comments: str = \"\"):\n",
    "        \"\"\"피드백을 수집하고 저장한다.\"\"\"\n",
    "        self.feedback_history.append({\n",
    "            \"content\": content,\n",
    "            \"approved\": approved,\n",
    "            \"comments\": comments\n",
    "        })\n",
    "        print(\"피드백이 기록되었습니다.\")\n",
    "    \n",
    "    def _build_context(self) -> str:\n",
    "        \"\"\"피드백 히스토리에서 컨텍스트를 구축한다.\"\"\"\n",
    "        if not self.feedback_history:\n",
    "            return \"없음\"\n",
    "        \n",
    "        recent_feedback = self.feedback_history[-3:]\n",
    "        context_parts = []\n",
    "        \n",
    "        for fb in recent_feedback:\n",
    "            if not fb['approved']:\n",
    "                context_parts.append(f\"- 거부된 내용: '{fb['content'][:30]}...' -> 피드백: {fb['comments']}\")\n",
    "        \n",
    "        return \"\\n\".join(context_parts) if context_parts else \"최근 거부된 피드백 없음\"\n",
    "\n",
    "# 사용 예시\n",
    "learning_system = FeedbackLearningSystem()\n",
    "\n",
    "for i in range(3):\n",
    "    print(f\"\\n=== 라운드 {i + 1} ===\")\n",
    "    draft = learning_system.generate_with_history(\"우리 제품의 장점을 강조하는 광고 문구를 작성해줘\")\n",
    "    approved = get_human_approval(draft)\n",
    "    comments = \"\"\n",
    "    if not approved:\n",
    "        comments = input(\"피드백 코멘트: \")\n",
    "    learning_system.collect_feedback(draft, approved, comments)"
   ]
  },
  {
   "cell_type": "markdown",
   "metadata": {},
   "source": [
    "## 4. 실전 예제"
   ]
  },
  {
   "cell_type": "markdown",
   "metadata": {},
   "source": [
    "### 4.1 이메일 발송 승인 시스템\n",
    "이메일을 보내기 전에 검토하고 승인한다."
   ]
  },
  {
   "cell_type": "code",
   "execution_count": 11,
   "metadata": {
    "tags": []
   },
   "outputs": [
    {
     "name": "stdout",
     "output_type": "stream",
     "text": [
      "\n",
      "생성된 내용:\n",
      "수신자: customer@example.com\n",
      "제목: 신제품 출시 안내\n",
      "\n",
      "\n",
      "안녕하세요, 고객님.\n",
      "\n",
      "저희 [회사명]에서 새롭게 출시된 제품에 대해 안내드리게 되어 매우 기쁩니다. 고객님의 기대에 부응하기 위해 오랜 시간 동안 면밀히 연구하고 개발한 [신제품명]은 혁신적인 기술과 세련된 디자인으로 만들어졌습니다. \n",
      "\n",
      "[신제품명]은 다음과 같은 특징을 가지고 있습니다:\n",
      "- [특징 1]\n",
      "- [특징 2]\n",
      "- [특징 3]\n",
      "\n",
      "출시일은 [출시일]이며, 지금 주문하시는 고객님께는 특별 할인 혜택이 제공됩니다. 자세한 정보와 구매는 저희 웹사이트([웹사이트 링크])에서 확인하실 수 있습니다.\n",
      "\n",
      "고객님의 소중한 의견과 관심을 항상 기다리고 있습니다. 추가적인 질문이나 요청사항이 있으시면 언제든지 연락 주시기 바랍니다.\n",
      "\n",
      "감사합니다.\n",
      "\n",
      "[회사명] 드림  \n",
      "[연락처]  \n",
      "[웹사이트 링크]\n",
      "\n",
      "--------------------------------------------------\n"
     ]
    },
    {
     "name": "stdin",
     "output_type": "stream",
     "text": [
      "승인하시겠습니까? (y/n):  ㅛ\n"
     ]
    },
    {
     "name": "stdout",
     "output_type": "stream",
     "text": [
      "잘못된 입력입니다. 'y' 또는 'n'으로 답해주세요.\n"
     ]
    },
    {
     "name": "stdin",
     "output_type": "stream",
     "text": [
      "승인하시겠습니까? (y/n):  y\n"
     ]
    },
    {
     "name": "stdout",
     "output_type": "stream",
     "text": [
      "\n",
      " 이메일이 발송되었습니다.\n"
     ]
    },
    {
     "data": {
      "text/plain": [
       "True"
      ]
     },
     "execution_count": 11,
     "metadata": {},
     "output_type": "execute_result"
    }
   ],
   "source": [
    "class EmailApprovalSystem:\n",
    "    \"\"\"이메일 발송 승인 시스템이다.\"\"\"\n",
    "    \n",
    "    def __init__(self):\n",
    "        self.client = OpenAI()\n",
    "    \n",
    "    def draft_email(self, recipient: str, purpose: str) -> dict:\n",
    "        \"\"\"이메일 초안을 작성한다.\"\"\"\n",
    "        prompt = f\"\"\"\n",
    "        수신자: {recipient}\n",
    "        목적: {purpose}\n",
    "        \n",
    "        위 정보를 바탕으로 전문적이고 친절한 이메일의 제목과 본문을 작성하라. 제목은 '제목: ' 다음에, 본문은 '본문: ' 다음에 작성하라.\n",
    "        \"\"\"\n",
    "        \n",
    "        response = self.client.chat.completions.create(\n",
    "            model=MODEL,\n",
    "            messages=[{\"role\": \"user\", \"content\": prompt}]\n",
    "        )\n",
    "        \n",
    "        content = response.choices[0].message.content\n",
    "        # 제목과 본문을 분리한다\n",
    "        subject = \"자동 생성된 제목\"\n",
    "        body = content\n",
    "        try:\n",
    "            subject = content.split(\"제목: \")[1].split(\"\\n\")[0]\n",
    "            body = content.split(\"본문: \")[1]\n",
    "        except IndexError:\n",
    "            print(\"제목/본문 파싱에 실패하여 전체 내용을 본문으로 사용합니다.\")\n",
    "        \n",
    "        email = {\n",
    "            \"recipient\": recipient,\n",
    "            \"subject\": subject,\n",
    "            \"body\": body,\n",
    "            \"status\": \"pending\"\n",
    "        }\n",
    "        \n",
    "        return email\n",
    "    \n",
    "    def review_and_send(self, email: dict) -> bool:\n",
    "        \"\"\"이메일을 검토하고 발송 여부를 결정한다.\"\"\"\n",
    "        full_content = f\"수신자: {email['recipient']}\\n제목: {email['subject']}\\n\\n{email['body']}\"\n",
    "        \n",
    "        approved = get_human_approval(full_content)\n",
    "        \n",
    "        if approved:\n",
    "            email[\"status\"] = \"sent\"\n",
    "            print(\"\\n 이메일이 발송되었습니다.\")\n",
    "        else:\n",
    "            email[\"status\"] = \"rejected\"\n",
    "            print(\"\\n 이메일 발송이 취소되었습니다.\")\n",
    "        \n",
    "        return approved\n",
    "\n",
    "# 사용 예시\n",
    "email_system = EmailApprovalSystem()\n",
    "draft = email_system.draft_email(\"customer@example.com\", \"신제품 출시 안내\")\n",
    "email_system.review_and_send(draft)"
   ]
  },
  {
   "cell_type": "markdown",
   "metadata": {},
   "source": [
    "## 5. 피드백 모범 사례"
   ]
  },
  {
   "cell_type": "markdown",
   "metadata": {},
   "source": [
    "### 5.1 명확한 컨텍스트 제공\n",
    "승인자가 충분한 정보를 바탕으로 결정할 수 있게 한다."
   ]
  },
  {
   "cell_type": "code",
   "execution_count": 12,
   "metadata": {
    "tags": []
   },
   "outputs": [
    {
     "name": "stdout",
     "output_type": "stream",
     "text": [
      "\n",
      "==================================================\n",
      "컨텍스트 정보:\n",
      "  - 생성 일시: 2025-10-26 14:30\n",
      "  - 요청자: 마케팅팀\n",
      "  - 대상 고객: 기업 임원\n",
      "  - 위험도 평가: 중간\n",
      "==================================================\n",
      "\n",
      "생성된 내용:\n",
      "[AI 생성 콘텐츠] 다음 분기 마케팅 캠페인은 '혁신'을 주제로 진행합니다.\n",
      "\n",
      "--------------------------------------------------\n"
     ]
    },
    {
     "name": "stdin",
     "output_type": "stream",
     "text": [
      "승인하시겠습니까? (y/n):  y\n"
     ]
    }
   ],
   "source": [
    "class ContextualApproval:\n",
    "    \"\"\"컨텍스트가 풍부한 승인 시스템이다.\"\"\"\n",
    "    \n",
    "    def show_with_context(self, content: str, metadata: dict) -> bool:\n",
    "        \"\"\"컨텍스트와 함께 내용을 표시한다.\"\"\"\n",
    "        print(\"\\n\" + \"=\" * 50)\n",
    "        print(\"컨텍스트 정보:\")\n",
    "        for key, value in metadata.items():\n",
    "            print(f\"  - {key}: {value}\")\n",
    "        print(\"=\" * 50)\n",
    "        \n",
    "        return get_human_approval(content)\n",
    "\n",
    "# 사용 예시\n",
    "contextual_approval = ContextualApproval()\n",
    "approved = contextual_approval.show_with_context(\n",
    "    \"[AI 생성 콘텐츠] 다음 분기 마케팅 캠페인은 '혁신'을 주제로 진행합니다.\",\n",
    "    {\n",
    "        \"생성 일시\": \"2025-10-26 14:30\",\n",
    "        \"요청자\": \"마케팅팀\",\n",
    "        \"대상 고객\": \"기업 임원\",\n",
    "        \"위험도 평가\": \"중간\"\n",
    "    }\n",
    ")"
   ]
  },
  {
   "cell_type": "markdown",
   "metadata": {},
   "source": [
    "### 5.2 승인 기록 유지\n",
    "모든 승인 결정을 추적 가능하게 기록한다."
   ]
  },
  {
   "cell_type": "code",
   "execution_count": 13,
   "metadata": {
    "tags": []
   },
   "outputs": [
    {
     "name": "stdout",
     "output_type": "stream",
     "text": [
      "\n",
      "=== 승인 기록 요약 ===\n",
      "총 요청: 3\n",
      "승인: 2\n",
      "거부: 1\n",
      "승인율: 66.7%\n"
     ]
    }
   ],
   "source": [
    "from datetime import datetime\n",
    "\n",
    "class ApprovalLogger:\n",
    "    \"\"\"승인 기록을 유지하는 클래스다.\"\"\"\n",
    "    \n",
    "    def __init__(self):\n",
    "        self.logs = []\n",
    "    \n",
    "    def log_approval(self, content: str, approved: bool, approver: str, comments: str = \"\"):\n",
    "        \"\"\"승인 결정을 기록한다.\"\"\"\n",
    "        log_entry = {\n",
    "            \"timestamp\": datetime.now().isoformat(),\n",
    "            \"content_preview\": content[:50] + \"...\",\n",
    "            \"approved\": approved,\n",
    "            \"approver\": approver,\n",
    "            \"comments\": comments\n",
    "        }\n",
    "        self.logs.append(log_entry)\n",
    "    \n",
    "    def print_summary(self):\n",
    "        \"\"\"승인 기록 요약을 출력한다.\"\"\"\n",
    "        total = len(self.logs)\n",
    "        if total == 0:\n",
    "            print(\"기록이 없습니다.\")\n",
    "            return\n",
    "            \n",
    "        approved_count = sum(1 for log in self.logs if log[\"approved\"])\n",
    "        \n",
    "        print(f\"\\n=== 승인 기록 요약 ===\")\n",
    "        print(f\"총 요청: {total}\")\n",
    "        print(f\"승인: {approved_count}\")\n",
    "        print(f\"거부: {total - approved_count}\")\n",
    "        print(f\"승인율: {approved_count/total*100:.1f}%\")\n",
    "\n",
    "# 사용 예시\n",
    "logger = ApprovalLogger()\n",
    "logger.log_approval(\"콘텐츠 1: AI의 미래에 대한 블로그 글\", True, \"김팀장\", \"좋음\")\n",
    "logger.log_approval(\"콘텐츠 2: 신제품 출시 이메일 초안\", False, \"이과장\", \"문구가 너무 공격적임\")\n",
    "logger.log_approval(\"콘텐츠 3: 주간 보고서 요약\", True, \"박대리\", \"\")\n",
    "logger.print_summary()"
   ]
  },
  {
   "cell_type": "markdown",
   "metadata": {},
   "source": [
    "### 5.3 피드백 템플릿\n",
    "일관된 피드백을 수집하기 위한 템플릿을 사용한다."
   ]
  },
  {
   "cell_type": "code",
   "execution_count": 14,
   "metadata": {
    "tags": []
   },
   "outputs": [
    {
     "name": "stdout",
     "output_type": "stream",
     "text": [
      "\n",
      "내용:\n",
      "새로운 마케팅 캠페인 슬로건: '미래를 코딩하라, 지금 바로!'\n",
      "\n",
      "==================================================\n",
      "\n",
      "정확성: 내용이 사실에 기반하고 정확한가?\n"
     ]
    },
    {
     "name": "stdin",
     "output_type": "stream",
     "text": [
      "평가 (1-5):  5\n"
     ]
    },
    {
     "name": "stdout",
     "output_type": "stream",
     "text": [
      "\n",
      "적절성: 대상 청중과 목적에 적절한가?\n"
     ]
    },
    {
     "name": "stdin",
     "output_type": "stream",
     "text": [
      "평가 (1-5):  4\n"
     ]
    },
    {
     "name": "stdout",
     "output_type": "stream",
     "text": [
      "\n",
      "톤앤매너: 브랜드 가이드라인에 맞는 톤앤매너인가?\n"
     ]
    },
    {
     "name": "stdin",
     "output_type": "stream",
     "text": [
      "평가 (1-5):  5\n"
     ]
    },
    {
     "name": "stdout",
     "output_type": "stream",
     "text": [
      "\n",
      "완성도: 문법적 오류 없이 완성도가 높은가?\n"
     ]
    },
    {
     "name": "stdin",
     "output_type": "stream",
     "text": [
      "평가 (1-5):  4\n",
      "\n",
      "전체 승인 여부 (y/n):  3\n"
     ]
    },
    {
     "name": "stdout",
     "output_type": "stream",
     "text": [
      "\n",
      "수집된 피드백: {'정확성': 5, '적절성': 4, '톤앤매너': 5, '완성도': 4, 'approved': False}\n"
     ]
    }
   ],
   "source": [
    "class FeedbackTemplate:\n",
    "    \"\"\"구조화된 피드백 템플릿이다.\"\"\"\n",
    "    \n",
    "    def __init__(self):\n",
    "        self.categories = {\n",
    "            \"정확성\": \"내용이 사실에 기반하고 정확한가?\",\n",
    "            \"적절성\": \"대상 청중과 목적에 적절한가?\",\n",
    "            \"톤앤매너\": \"브랜드 가이드라인에 맞는 톤앤매너인가?\",\n",
    "            \"완성도\": \"문법적 오류 없이 완성도가 높은가?\"\n",
    "        }\n",
    "    \n",
    "    def collect_structured_feedback(self, content: str) -> dict:\n",
    "        \"\"\"구조화된 피드백을 수집한다.\"\"\"\n",
    "        print(f\"\\n내용:\\n{content}\\n\")\n",
    "        print(\"=\" * 50)\n",
    "        \n",
    "        feedback = {}\n",
    "        \n",
    "        for category, question in self.categories.items():\n",
    "            print(f\"\\n{category}: {question}\")\n",
    "            while True:\n",
    "                try:\n",
    "                    rating = int(input(\"평가 (1-5): \"))\n",
    "                    if 1 <= rating <= 5:\n",
    "                        feedback[category] = rating\n",
    "                        break\n",
    "                    else:\n",
    "                        print(\"1에서 5 사이의 숫자를 입력해주세요.\")\n",
    "                except ValueError:\n",
    "                    print(\"숫자로 입력해주세요.\")\n",
    "        \n",
    "        overall = input(\"\\n전체 승인 여부 (y/n): \")\n",
    "        feedback[\"approved\"] = overall.lower().startswith(\"y\")\n",
    "        \n",
    "        return feedback\n",
    "\n",
    "# 사용 예시\n",
    "template = FeedbackTemplate()\n",
    "feedback = template.collect_structured_feedback(\"새로운 마케팅 캠페인 슬로건: '미래를 코딩하라, 지금 바로!'\")\n",
    "print(f\"\\n수집된 피드백: {feedback}\")"
   ]
  }
 ],
 "metadata": {
  "kernelspec": {
   "display_name": "lecture",
   "language": "python",
   "name": "lecture"
  },
  "language_info": {
   "codemirror_mode": {
    "name": "ipython",
    "version": 3
   },
   "file_extension": ".py",
   "mimetype": "text/x-python",
   "name": "python",
   "nbconvert_exporter": "python",
   "pygments_lexer": "ipython3",
   "version": "3.11.7"
  }
 },
 "nbformat": 4,
 "nbformat_minor": 4
}
