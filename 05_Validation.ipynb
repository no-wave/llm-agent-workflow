{
 "cells": [
  {
   "cell_type": "markdown",
   "metadata": {},
   "source": [
    "# Agent: Validation"
   ]
  },
  {
   "cell_type": "markdown",
   "metadata": {},
   "source": [
    "이 튜토리얼을 통해 다음을 배울 수 있다:\n",
    "\n",
    "- LLM 출력의 불확실성과 유효성 검사의 필요성을 이해한다.\n",
    "- Pydantic을 활용한 스키마를 정의하고 검증한다.\n",
    "- Instructor 라이브러리로 구조화된 출력을 강제한다.\n",
    "- 복잡한 데이터 구조의 유효성 검사를 구현한다."
   ]
  },
  {
   "cell_type": "markdown",
   "metadata": {},
   "source": [
    "## 1. 환경 설정"
   ]
  },
  {
   "cell_type": "markdown",
   "metadata": {},
   "source": [
    "### 1.1 필요한 라이브러리 설치\n",
    "라이브러리 설명은 다음과 같다:\n",
    "- **pydantic**: 데이터 검증 및 스키마 정의 라이브러리다.\n",
    "- **instructor**: OpenAI API를 확장하여 구조화된 출력을 지원하는 라이브러리다."
   ]
  },
  {
   "cell_type": "code",
   "execution_count": 9,
   "metadata": {},
   "outputs": [
    {
     "name": "stdout",
     "output_type": "stream",
     "text": [
      "Note: you may need to restart the kernel to use updated packages.\n"
     ]
    }
   ],
   "source": [
    "%pip install -q instructor"
   ]
  },
  {
   "cell_type": "markdown",
   "metadata": {},
   "source": [
    "### 1.2 환경 설정"
   ]
  },
  {
   "cell_type": "code",
   "execution_count": 10,
   "metadata": {},
   "outputs": [
    {
     "data": {
      "text/plain": [
       "True"
      ]
     },
     "execution_count": 10,
     "metadata": {},
     "output_type": "execute_result"
    }
   ],
   "source": [
    "from dotenv import load_dotenv\n",
    "import os\n",
    "\n",
    "load_dotenv()"
   ]
  },
  {
   "cell_type": "markdown",
   "metadata": {},
   "source": [
    "### 1.3 필요한 라이브러리 가져오기"
   ]
  },
  {
   "cell_type": "code",
   "execution_count": 11,
   "metadata": {},
   "outputs": [],
   "source": [
    "from openai import OpenAI\n",
    "from pydantic import BaseModel, Field\n",
    "import instructor"
   ]
  },
  {
   "cell_type": "markdown",
   "metadata": {},
   "source": [
    "## 2. 기본 유효성 검사"
   ]
  },
  {
   "cell_type": "markdown",
   "metadata": {},
   "source": [
    "### 2.1 Pydantic 모델 정의\n",
    "먼저 LLM 출력의 예상 구조를 Pydantic 모델로 정의한다."
   ]
  },
  {
   "cell_type": "code",
   "execution_count": 12,
   "metadata": {},
   "outputs": [],
   "source": [
    "class TaskResult(BaseModel):\n",
    "    \"\"\"작업 정보를 담는 데이터 모델이다.\"\"\"\n",
    "    task: str = Field(..., description=\"작업 내용\")\n",
    "    completed: bool = Field(..., description=\"완료 여부\")\n",
    "    priority: int = Field(..., description=\"우선순위\")"
   ]
  },
  {
   "cell_type": "markdown",
   "metadata": {},
   "source": [
    "### 2.2 Instructor로 OpenAI 클라이언트 패치\n",
    "Instructor는 OpenAI 클라이언트를 확장하여 `response_model` 인자를 지원하게 만든다."
   ]
  },
  {
   "cell_type": "code",
   "execution_count": 13,
   "metadata": {},
   "outputs": [],
   "source": [
    "MODEL = \"gpt-4o-mini\"\n",
    "\n",
    "client = instructor.patch(OpenAI())"
   ]
  },
  {
   "cell_type": "markdown",
   "metadata": {},
   "source": [
    "### 2.3 구조화된 출력 생성"
   ]
  },
  {
   "cell_type": "code",
   "execution_count": 15,
   "metadata": {},
   "outputs": [
    {
     "name": "stdout",
     "output_type": "stream",
     "text": [
      "=== 구조화된 출력 ===\n",
      "{\n",
      "  \"task\": \"프로젝트 발표 완료\",\n",
      "  \"completed\": false,\n",
      "  \"priority\": 1\n",
      "}\n",
      "\n",
      "작업: 프로젝트 발표 완료\n",
      "완료 여부: False\n",
      "우선순위: 1\n"
     ]
    }
   ],
   "source": [
    "def structured_intelligence(prompt: str) -> TaskResult:\n",
    "    \"\"\"구조화된 출력을 생성하는 지능형 함수다.\"\"\"\n",
    "    response = client.chat.completions.create(\n",
    "        model=MODEL,\n",
    "        messages=[\n",
    "            {\"role\": \"system\", \"content\": \"사용자 입력에서 작업 정보를 추출한다.\"},\n",
    "            {\"role\": \"user\", \"content\": prompt},\n",
    "        ],\n",
    "        response_model=TaskResult, # 이 부분이 핵심이다\n",
    "    )\n",
    "    return response\n",
    "\n",
    "# 사용 예시\n",
    "result = structured_intelligence(\n",
    "    \"금요일까지 프로젝트 발표를 완료해야 하는데, 우선순위가 높다.\"\n",
    ")\n",
    "\n",
    "print(\"=== 구조화된 출력 ===\")\n",
    "print(result.model_dump_json(indent=2))\n",
    "print(f\"\\n작업: {result.task}\")\n",
    "print(f\"완료 여부: {result.completed}\")\n",
    "print(f\"우선순위: {result.priority}\")"
   ]
  },
  {
   "cell_type": "markdown",
   "metadata": {},
   "source": [
    "## 3. 고급 유효성 검사"
   ]
  },
  {
   "cell_type": "markdown",
   "metadata": {},
   "source": [
    "### 3.1 Field를 활용한 세밀한 검증\n",
    "`Field`를 사용하면 값의 범위, 길이, 패턴 등을 검증할 수 있다."
   ]
  },
  {
   "cell_type": "code",
   "execution_count": 16,
   "metadata": {},
   "outputs": [
    {
     "name": "stdout",
     "output_type": "stream",
     "text": [
      "이름: 김철수\n",
      "나이: 28\n",
      "이메일: chulsoo.kim@example.com\n",
      "관심사: 프로그래밍, 독서, 운동\n",
      "점수: 85.5\n"
     ]
    }
   ],
   "source": [
    "from pydantic import BaseModel, Field\n",
    "from typing import List\n",
    "\n",
    "class UserProfile(BaseModel):\n",
    "    \"\"\"사용자 프로필 모델이다.\"\"\"\n",
    "    name: str = Field(..., min_length=2, max_length=50, description=\"사용자 이름\")\n",
    "    age: int = Field(..., ge=0, le=150, description=\"나이 (0-150)\")\n",
    "    email: str = Field(..., pattern=r'^[\\w\\.-]+@[\\w\\.-]+\\.\\w+$', description=\"이메일 주소\")\n",
    "    interests: List[str] = Field(..., min_length=1, max_length=10, description=\"관심사 목록\")\n",
    "    score: float = Field(..., ge=0.0, le=100.0, description=\"점수 (0-100)\")\n",
    "\n",
    "def extract_user_profile(text: str) -> UserProfile:\n",
    "    \"\"\"텍스트에서 사용자 프로필을 추출한다.\"\"\"\n",
    "    response = client.chat.completions.create(\n",
    "        model=MODEL,\n",
    "        messages=[\n",
    "            {\"role\": \"system\", \"content\": \"텍스트에서 사용자 정보를 추출한다.\"},\n",
    "            {\"role\": \"user\", \"content\": text}\n",
    "        ],\n",
    "        response_model=UserProfile,\n",
    "    )\n",
    "    return response\n",
    "\n",
    "# 사용 예시\n",
    "profile_text = \"\"\"\n",
    "저는 김철수이고 28살입니다. \n",
    "이메일은 chulsoo.kim@example.com이에요.\n",
    "프로그래밍, 독서, 운동에 관심이 있습니다.\n",
    "최근 평가에서 85.5점을 받았어요.\n",
    "\"\"\"\n",
    "\n",
    "profile = extract_user_profile(profile_text)\n",
    "print(f\"이름: {profile.name}\")\n",
    "print(f\"나이: {profile.age}\")\n",
    "print(f\"이메일: {profile.email}\")\n",
    "print(f\"관심사: {', '.join(profile.interests)}\")\n",
    "print(f\"점수: {profile.score}\")"
   ]
  },
  {
   "cell_type": "markdown",
   "metadata": {},
   "source": [
    "### 3.2 중첩된 모델 검증\n",
    "복잡한 데이터 구조도 검증할 수 있다."
   ]
  },
  {
   "cell_type": "code",
   "execution_count": 17,
   "metadata": {},
   "outputs": [
    {
     "name": "stdout",
     "output_type": "stream",
     "text": [
      "주문번호: ORD-2025-001\n",
      "고객: 이영희\n",
      "주문 항목: 2개\n",
      "  - 무선 마우스: 2개 x 25,000원\n",
      "  - 키보드: 1개 x 89,000원\n",
      "배송지: 서울시 강남구 테헤란로 123\n",
      "총액: 139,000원\n"
     ]
    }
   ],
   "source": [
    "from pydantic import BaseModel, Field\n",
    "from typing import List, Optional\n",
    "\n",
    "class Address(BaseModel):\n",
    "    \"\"\"주소 정보 모델이다.\"\"\"\n",
    "    street: str = Field(..., description=\"도로명\")\n",
    "    city: str = Field(..., description=\"도시\")\n",
    "    postal_code: str = Field(..., pattern=r'^\\d{5}$', description=\"우편번호 (5자리)\")\n",
    "\n",
    "class OrderItem(BaseModel):\n",
    "    \"\"\"주문 항목 모델이다.\"\"\"\n",
    "    product_name: str = Field(..., description=\"제품명\")\n",
    "    quantity: int = Field(..., ge=1, description=\"수량\")\n",
    "    price: float = Field(..., ge=0, description=\"단가\")\n",
    "\n",
    "class Order(BaseModel):\n",
    "    \"\"\"주문 정보 모델이다.\"\"\"\n",
    "    order_id: str = Field(..., description=\"주문 번호\")\n",
    "    customer_name: str = Field(..., description=\"고객 이름\")\n",
    "    items: List[OrderItem] = Field(..., min_length=1, description=\"주문 항목 목록\")\n",
    "    shipping_address: Address = Field(..., description=\"배송 주소\")\n",
    "    total_amount: float = Field(..., ge=0, description=\"총 금액\")\n",
    "    order_date: str = Field(..., description=\"주문 날짜 (YYYY-MM-DD 형식)\")\n",
    "    notes: Optional[str] = Field(None, description=\"추가 메모\")\n",
    "\n",
    "def parse_order(order_text: str) -> Order:\n",
    "    \"\"\"주문 정보를 파싱한다.\"\"\"\n",
    "    response = client.chat.completions.create(\n",
    "        model=MODEL,\n",
    "        messages=[\n",
    "            {\"role\": \"system\", \"content\": \"주문 정보를 구조화된 형식으로 추출한다.\"},\n",
    "            {\"role\": \"user\", \"content\": order_text}\n",
    "        ],\n",
    "        response_model=Order,\n",
    "    )\n",
    "    return response\n",
    "\n",
    "# 사용 예시\n",
    "order_text = \"\"\"\n",
    "주문번호: ORD-2025-001\n",
    "고객: 이영희\n",
    "주문 내용:\n",
    "- 무선 마우스 2개, 각 25000원\n",
    "- 키보드 1개, 89000원\n",
    "총 금액: 139000원\n",
    "배송지: 서울시 강남구 테헤란로 123, 우편번호 06234\n",
    "주문일: 2025-01-15\n",
    "특이사항: 배송 전 연락 부탁드립니다.\n",
    "\"\"\"\n",
    "\n",
    "order = parse_order(order_text)\n",
    "print(f\"주문번호: {order.order_id}\")\n",
    "print(f\"고객: {order.customer_name}\")\n",
    "print(f\"주문 항목: {len(order.items)}개\")\n",
    "for item in order.items:\n",
    "    print(f\"  - {item.product_name}: {item.quantity}개 x {item.price:,.0f}원\")\n",
    "print(f\"배송지: {order.shipping_address.city} {order.shipping_address.street}\")\n",
    "print(f\"총액: {order.total_amount:,.0f}원\")"
   ]
  },
  {
   "cell_type": "markdown",
   "metadata": {},
   "source": [
    "### 3.3 열거형(Enum)을 사용한 값 제한\n",
    "특정 값만 허용하도록 제한할 수 있다."
   ]
  },
  {
   "cell_type": "code",
   "execution_count": 18,
   "metadata": {},
   "outputs": [
    {
     "name": "stdout",
     "output_type": "stream",
     "text": [
      "제목: 데이터베이스 백업\n",
      "우선순위: urgent\n",
      "상태: todo\n",
      "담당자: 김철수\n"
     ]
    }
   ],
   "source": [
    "from enum import Enum\n",
    "from pydantic import BaseModel, Field\n",
    "\n",
    "class Priority(str, Enum):\n",
    "    \"\"\"우선순위 열거형이다.\"\"\"\n",
    "    LOW = \"low\"\n",
    "    MEDIUM = \"medium\"\n",
    "    HIGH = \"high\"\n",
    "    URGENT = \"urgent\"\n",
    "\n",
    "class Status(str, Enum):\n",
    "    \"\"\"작업 상태 열거형이다.\"\"\"\n",
    "    TODO = \"todo\"\n",
    "    IN_PROGRESS = \"in_progress\"\n",
    "    REVIEW = \"review\"\n",
    "    DONE = \"done\"\n",
    "\n",
    "class Task(BaseModel):\n",
    "    \"\"\"작업 모델이다.\"\"\"\n",
    "    title: str = Field(..., description=\"작업 제목\")\n",
    "    description: str = Field(..., description=\"작업 설명\")\n",
    "    priority: Priority = Field(..., description=\"우선순위\")\n",
    "    status: Status = Field(Status.TODO, description=\"현재 상태\")\n",
    "    assignee: str = Field(..., description=\"담당자\")\n",
    "\n",
    "def create_task(task_description: str) -> Task:\n",
    "    \"\"\"작업 설명에서 구조화된 작업을 생성한다.\"\"\"\n",
    "    response = client.chat.completions.create(\n",
    "        model=\"gpt-4o-mini\",\n",
    "        messages=[\n",
    "            {\"role\": \"system\", \"content\": \"작업 정보를 추출한다.\"},\n",
    "            {\"role\": \"user\", \"content\": task_description}\n",
    "        ],\n",
    "        response_model=Task,\n",
    "    )\n",
    "    return response\n",
    "\n",
    "# 사용 예시\n",
    "task = create_task(\n",
    "    \"긴급하게 데이터베이스 백업을 해야 해. 김철수 담당으로 부탁해.\"\n",
    ")\n",
    "\n",
    "print(f\"제목: {task.title}\")\n",
    "print(f\"우선순위: {task.priority.value}\")\n",
    "print(f\"상태: {task.status.value}\")\n",
    "print(f\"담당자: {task.assignee}\")"
   ]
  },
  {
   "cell_type": "markdown",
   "metadata": {},
   "source": [
    "## 4. 실전 활용 예제"
   ]
  },
  {
   "cell_type": "markdown",
   "metadata": {},
   "source": [
    "### 4.1 이메일 분류 시스템\n",
    "이메일을 자동으로 분류하고 중요 정보를 추출한다."
   ]
  },
  {
   "cell_type": "code",
   "execution_count": 19,
   "metadata": {},
   "outputs": [
    {
     "name": "stdout",
     "output_type": "stream",
     "text": [
      "카테고리: urgent\n",
      "긴급도: 9/10\n",
      "답장 필요: 예\n",
      "\n",
      "핵심 요점:\n",
      "  - 내일 오전 10시 클라이언트 미팅\n",
      "  - 최신 프로젝트 진행 상황 보고서 준비\n",
      "  - 예산 집행 현황 준비\n",
      "  - 향후 일정 계획 준비\n",
      "  - 오늘 오후 5시까지 자료 공유\n",
      "\n",
      "권장 조치: 자료를 오늘 오후 5시까지 준비하여 공유하기\n"
     ]
    }
   ],
   "source": [
    "from pydantic import BaseModel, Field\n",
    "from typing import List\n",
    "from enum import Enum\n",
    "\n",
    "class EmailCategory(str, Enum):\n",
    "    \"\"\"이메일 카테고리다.\"\"\"\n",
    "    URGENT = \"urgent\"\n",
    "    WORK = \"work\"\n",
    "    PERSONAL = \"personal\"\n",
    "    SPAM = \"spam\"\n",
    "    NEWSLETTER = \"newsletter\"\n",
    "\n",
    "class EmailAnalysis(BaseModel):\n",
    "    \"\"\"이메일 분석 결과 모델이다.\"\"\"\n",
    "    subject: str = Field(..., description=\"이메일 제목\")\n",
    "    category: EmailCategory = Field(..., description=\"이메일 카테고리\")\n",
    "    sender_name: str = Field(..., description=\"발신자 이름\")\n",
    "    key_points: List[str] = Field(..., min_length=1, max_length=5, description=\"핵심 요점\")\n",
    "    requires_response: bool = Field(..., description=\"답장 필요 여부\")\n",
    "    urgency_score: int = Field(..., ge=1, le=10, description=\"긴급도 (1-10)\")\n",
    "    suggested_action: str = Field(..., description=\"권장 조치\")\n",
    "\n",
    "def analyze_email(email_content: str) -> EmailAnalysis:\n",
    "    \"\"\"이메일을 분석한다.\"\"\"\n",
    "    response = client.chat.completions.create(\n",
    "        model=MODEL,\n",
    "        messages=[\n",
    "            {\"role\": \"system\", \"content\": \"이메일을 분석하고 중요 정보를 추출한다.\"},\n",
    "            {\"role\": \"user\", \"content\": email_content}\n",
    "        ],\n",
    "        response_model=EmailAnalysis,\n",
    "    )\n",
    "    return response\n",
    "\n",
    "# 사용 예시\n",
    "email = \"\"\"\n",
    "발신: 프로젝트 매니저 박민수\n",
    "제목: [긴급] 내일 오전 클라이언트 미팅 준비\n",
    "\n",
    "안녕하세요,\n",
    "\n",
    "내일 오전 10시 클라이언트 미팅이 예정되어 있습니다.\n",
    "다음 사항을 준비해 주세요:\n",
    "1. 최신 프로젝트 진행 상황 보고서\n",
    "2. 예산 집행 현황\n",
    "3. 향후 일정 계획\n",
    "\n",
    "늦어도 오늘 오후 5시까지 자료를 공유 부탁드립니다.\n",
    "\n",
    "감사합니다.\n",
    "\"\"\"\n",
    "\n",
    "result = analyze_email(email)\n",
    "print(f\"카테고리: {result.category.value}\")\n",
    "print(f\"긴급도: {result.urgency_score}/10\")\n",
    "print(f\"답장 필요: {'예' if result.requires_response else '아니오'}\")\n",
    "print(\"\\n핵심 요점:\")\n",
    "for point in result.key_points:\n",
    "    print(f\"  - {point}\")\n",
    "print(f\"\\n권장 조치: {result.suggested_action}\")"
   ]
  },
  {
   "cell_type": "markdown",
   "metadata": {},
   "source": [
    "### 4.2 제품 리뷰 감정 분석\n",
    "리뷰를 분석하여 구조화된 인사이트를 추출한다."
   ]
  },
  {
   "cell_type": "code",
   "execution_count": 21,
   "metadata": {},
   "outputs": [
    {
     "name": "stdout",
     "output_type": "stream",
     "text": [
      "감정: positive\n",
      "평점: 4/5\n",
      "추천: 예\n",
      "\n",
      "장점:\n",
      "  음질이 깨끗하다\n",
      "  배터리 수명이 길다\n",
      "  노이즈 캔슬링 기능이 훌륭하다\n",
      "\n",
      "단점:\n",
      "  케이스가 크고 무겁다\n",
      "  가격이 비싸다\n",
      "\n",
      "요약: 3개월 사용 후 전반적으로 만족하며, 음질과 배터리 성능이 뛰어나지만 케이스 크기와 가격이 아쉽다.\n"
     ]
    }
   ],
   "source": [
    "from pydantic import BaseModel, Field\n",
    "from typing import List\n",
    "\n",
    "class Sentiment(str, Enum):\n",
    "    \"\"\"감정 분류다.\"\"\"\n",
    "    VERY_POSITIVE = \"very_positive\"\n",
    "    POSITIVE = \"positive\"\n",
    "    NEUTRAL = \"neutral\"\n",
    "    NEGATIVE = \"negative\"\n",
    "    VERY_NEGATIVE = \"very_negative\"\n",
    "\n",
    "class ReviewAnalysis(BaseModel):\n",
    "    \"\"\"리뷰 분석 결과 모델이다.\"\"\"\n",
    "    overall_sentiment: Sentiment = Field(..., description=\"전반적인 감정\")\n",
    "    rating: int = Field(..., ge=1, le=5, description=\"예상 평점 (1-5)\")\n",
    "    pros: List[str] = Field(..., description=\"장점 목록\")\n",
    "    cons: List[str] = Field(..., description=\"단점 목록\")\n",
    "    main_topics: List[str] = Field(..., description=\"주요 언급 주제\")\n",
    "    would_recommend: bool = Field(..., description=\"추천 의향\")\n",
    "    summary: str = Field(..., max_length=200, description=\"리뷰 요약\")\n",
    "\n",
    "def analyze_review(review_text: str) -> ReviewAnalysis:\n",
    "    \"\"\"제품 리뷰를 분석한다.\"\"\"\n",
    "    response = client.chat.completions.create(\n",
    "        model=MODEL,\n",
    "        messages=[\n",
    "            {\"role\": \"system\", \"content\": \"제품 리뷰를 상세히 분석한다.\"},\n",
    "            {\"role\": \"user\", \"content\": review_text}\n",
    "        ],\n",
    "        response_model=ReviewAnalysis,\n",
    "    )\n",
    "    return response\n",
    "\n",
    "# 사용 예시\n",
    "review = \"\"\"\n",
    "이 무선 이어폰을 3개월간 사용해 봤는데 전반적으로 만족스럽습니다.\n",
    "음질이 깨끗하고 배터리도 하루 종일 사용할 수 있어요.\n",
    "노이즈 캔슬링 기능도 훌륭합니다.\n",
    "\n",
    "다만 케이스가 좀 크고 무거운 편이라 휴대성은 아쉽습니다.\n",
    "가격도 경쟁 제품에 비해 조금 비싼 편이에요.\n",
    "\n",
    "그래도 음질을 중시하는 분들께는 추천하고 싶습니다.\n",
    "\"\"\"\n",
    "\n",
    "analysis = analyze_review(review)\n",
    "print(f\"감정: {analysis.overall_sentiment.value}\")\n",
    "print(f\"평점: {analysis.rating}/5\")\n",
    "print(f\"추천: {'예' if analysis.would_recommend else '아니오'}\")\n",
    "\n",
    "print(\"\\n장점:\")\n",
    "for pro in analysis.pros:\n",
    "    print(f\"  {pro}\")\n",
    "\n",
    "print(\"\\n단점:\")\n",
    "for con in analysis.cons:\n",
    "    print(f\"  {con}\")\n",
    "\n",
    "print(f\"\\n요약: {analysis.summary}\")"
   ]
  },
  {
   "cell_type": "markdown",
   "metadata": {},
   "source": [
    "### 4.3 회의록 구조화\n",
    "회의 내용을 자동으로 정리하고 구조화한다."
   ]
  },
  {
   "cell_type": "code",
   "execution_count": 22,
   "metadata": {},
   "outputs": [
    {
     "name": "stdout",
     "output_type": "stream",
     "text": [
      "=== 신제품 기획 회의 ===\n",
      "날짜: 2025-01-15\n",
      "참석자: 김팀장, 이과장, 박대리\n",
      "\n",
      "주요 논의:\n",
      "  • 신제품 출시 일정 논의\n",
      "  • 시장 조사 결과에 따른 3월 출시 적정성\n",
      "\n",
      "결정 사항:\n",
      "   신제품 출시일\n",
      "    결정: 3월 15일로 목표 설정\n",
      "\n",
      "실행 항목:\n",
      "   마케팅 계획 작성\n",
      "   담당: 이과장 | 마감: 2025-01-22 | 우선순위: high\n",
      "   제품 사양서 완성\n",
      "   담당: 박대리 | 마감: 2025-01-20 | 우선순위: high\n",
      "\n",
      "다음 회의: 2025-01-22 오후 2시\n"
     ]
    }
   ],
   "source": [
    "from pydantic import BaseModel, Field\n",
    "from typing import List\n",
    "\n",
    "class ActionItem(BaseModel):\n",
    "    \"\"\"실행 항목 모델이다.\"\"\"\n",
    "    task: str = Field(..., description=\"해야 할 작업\")\n",
    "    assignee: str = Field(..., description=\"담당자\")\n",
    "    deadline: str = Field(..., description=\"마감일\")\n",
    "    priority: Priority = Field(..., description=\"우선순위\")\n",
    "\n",
    "class Decision(BaseModel):\n",
    "    \"\"\"결정 사항 모델이다.\"\"\"\n",
    "    topic: str = Field(..., description=\"결정 주제\")\n",
    "    decision: str = Field(..., description=\"내린 결정\")\n",
    "    rationale: str = Field(..., description=\"결정 이유\")\n",
    "\n",
    "class MeetingMinutes(BaseModel):\n",
    "    \"\"\"회의록 모델이다.\"\"\"\n",
    "    meeting_title: str = Field(..., description=\"회의 제목\")\n",
    "    date: str = Field(..., description=\"회의 날짜\")\n",
    "    attendees: List[str] = Field(..., description=\"참석자 목록\")\n",
    "    key_discussions: List[str] = Field(..., description=\"주요 논의 사항\")\n",
    "    decisions: List[Decision] = Field(..., description=\"결정 사항\")\n",
    "    action_items: List[ActionItem] = Field(..., description=\"실행 항목\")\n",
    "    next_meeting: str = Field(..., description=\"다음 회의 일정\")\n",
    "\n",
    "def create_meeting_minutes(meeting_transcript: str) -> MeetingMinutes:\n",
    "    \"\"\"회의 내용을 구조화된 회의록으로 변환한다.\"\"\"\n",
    "    response = client.chat.completions.create(\n",
    "        model=MODEL,\n",
    "        messages=[\n",
    "            {\"role\": \"system\", \"content\": \"회의 내용을 구조화된 회의록으로 정리한다.\"},\n",
    "            {\"role\": \"user\", \"content\": meeting_transcript}\n",
    "        ],\n",
    "        response_model=MeetingMinutes,\n",
    "    )\n",
    "    return response\n",
    "\n",
    "# 사용 예시\n",
    "transcript = \"\"\"\n",
    "2025년 1월 15일 신제품 기획 회의\n",
    "참석자: 김팀장, 이과장, 박대리\n",
    "\n",
    "김팀장: 오늘은 신제품 출시 일정에 대해 논의하겠습니다.\n",
    "이과장: 시장 조사 결과 3월 출시가 적절할 것 같습니다.\n",
    "박대리: 동의합니다. 경쟁사 동향도 고려하면 3월이 좋겠네요.\n",
    "\n",
    "김팀장: 그럼 3월 15일을 목표로 하겠습니다. 매우 중요한 사안입니다.\n",
    "이과장이 마케팅 계획을 다음 주까지 작성해 주세요. 우선순위는 높습니다.\n",
    "박대리는 제품 사양서를 이번 주 금요일까지 완성해 주시기 바랍니다.\n",
    "\n",
    "다음 회의는 1월 22일 오후 2시입니다.\n",
    "\"\"\"\n",
    "\n",
    "minutes = create_meeting_minutes(transcript)\n",
    "print(f\"=== {minutes.meeting_title} ===\")\n",
    "print(f\"날짜: {minutes.date}\")\n",
    "print(f\"참석자: {', '.join(minutes.attendees)}\")\n",
    "\n",
    "print(\"\\n주요 논의:\")\n",
    "for discussion in minutes.key_discussions:\n",
    "    print(f\"  • {discussion}\")\n",
    "\n",
    "print(\"\\n결정 사항:\")\n",
    "for decision in minutes.decisions:\n",
    "    print(f\"   {decision.topic}\")\n",
    "    print(f\"    결정: {decision.decision}\")\n",
    "\n",
    "print(\"\\n실행 항목:\")\n",
    "for action in minutes.action_items:\n",
    "    print(f\"   {action.task}\")\n",
    "    print(f\"   담당: {action.assignee} | 마감: {action.deadline} | 우선순위: {action.priority.value}\")\n",
    "\n",
    "print(f\"\\n다음 회의: {minutes.next_meeting}\")"
   ]
  },
  {
   "cell_type": "markdown",
   "metadata": {},
   "source": [
    "## 5. 유효성 검사 모범 사례"
   ]
  },
  {
   "cell_type": "markdown",
   "metadata": {},
   "source": [
    "### 5.1 명확한 필드 설명 작성\n",
    "LLM이 각 필드의 의미를 정확히 이해할 수 있도록 설명을 구체적으로 작성한다."
   ]
  },
  {
   "cell_type": "code",
   "execution_count": 23,
   "metadata": {},
   "outputs": [],
   "source": [
    "class GoodModel(BaseModel):\n",
    "    \"\"\"좋은 모델 예시다.\"\"\"\n",
    "    user_age: int = Field(\n",
    "        ..., \n",
    "        ge=0, \n",
    "        le=150, \n",
    "        description=\"사용자의 실제 나이 (만 나이 기준, 0-150세)\"\n",
    "    )\n",
    "    purchase_date: str = Field(\n",
    "        ..., \n",
    "        description=\"구매 날짜 (YYYY-MM-DD 형식)\"\n",
    "    )\n",
    "\n",
    "class BadModel(BaseModel):\n",
    "    \"\"\"나쁜 모델 예시다.\"\"\"\n",
    "    age: int  # 설명 없음, 검증 없음\n",
    "    date: str  # 형식 불명확"
   ]
  },
  {
   "cell_type": "markdown",
   "metadata": {},
   "source": [
    "### 5.2 기본값 활용\n",
    "필수가 아닌 필드에는 합리적인 기본값을 제공한다."
   ]
  },
  {
   "cell_type": "code",
   "execution_count": 24,
   "metadata": {},
   "outputs": [],
   "source": [
    "from typing import Optional\n",
    "\n",
    "class ConfigurableTask(BaseModel):\n",
    "    \"\"\"설정 가능한 작업 모델이다.\"\"\"\n",
    "    title: str = Field(..., description=\"작업 제목\")\n",
    "    priority: Priority = Field(Priority.MEDIUM, description=\"우선순위 (기본: 보통)\")\n",
    "    status: Status = Field(Status.TODO, description=\"상태 (기본: 할 일)\")\n",
    "    assignee: Optional[str] = Field(None, description=\"담당자 (선택사항)\")\n",
    "    tags: List[str] = Field(default_factory=list, description=\"태그 목록\")"
   ]
  },
  {
   "cell_type": "markdown",
   "metadata": {},
   "source": [
    "### 5.3 커스텀 검증 추가\n",
    "복잡한 검증 로직은 `validator`를 사용한다."
   ]
  },
  {
   "cell_type": "code",
   "execution_count": 25,
   "metadata": {},
   "outputs": [],
   "source": [
    "from pydantic import BaseModel, Field, field_validator, ValidationInfo\n",
    "from datetime import datetime\n",
    "\n",
    "class Event(BaseModel):\n",
    "    \"\"\"이벤트 모델이다.\"\"\"\n",
    "    title: str = Field(..., description=\"이벤트 제목\")\n",
    "    start_date: str = Field(..., description=\"시작일 (YYYY-MM-DD)\")\n",
    "    end_date: str = Field(..., description=\"종료일 (YYYY-MM-DD)\")\n",
    "    \n",
    "    @field_validator('start_date', 'end_date')\n",
    "    @classmethod\n",
    "    def validate_date_format(cls, v):\n",
    "        \"\"\"날짜 형식을 검증한다.\"\"\"\n",
    "        try:\n",
    "            datetime.strptime(v, '%Y-%m-%d')\n",
    "        except ValueError:\n",
    "            raise ValueError(f\"날짜 형식은 'YYYY-MM-DD'여야 한다: {v}\")\n",
    "        return v\n",
    "    \n",
    "    @field_validator('end_date')\n",
    "    @classmethod\n",
    "    def validate_end_after_start(cls, v: str, info: ValidationInfo) -> str:\n",
    "        \"\"\"종료일이 시작일 이후인지 확인한다.\"\"\"\n",
    "        if 'start_date' in info.data:\n",
    "            start_dt = datetime.strptime(info.data['start_date'], '%Y-%m-%d')\n",
    "            end_dt = datetime.strptime(v, '%Y-%m-%d')\n",
    "            if end_dt < start_dt:\n",
    "                raise ValueError(\"종료일은 시작일보다 빠를 수 없다.\")\n",
    "        return v"
   ]
  }
 ],
 "metadata": {
  "kernelspec": {
   "display_name": "lecture",
   "language": "python",
   "name": "lecture"
  },
  "language_info": {
   "codemirror_mode": {
    "name": "ipython",
    "version": 3
   },
   "file_extension": ".py",
   "mimetype": "text/x-python",
   "name": "python",
   "nbconvert_exporter": "python",
   "pygments_lexer": "ipython3",
   "version": "3.11.7"
  }
 },
 "nbformat": 4,
 "nbformat_minor": 4
}
