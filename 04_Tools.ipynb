{
 "cells": [
  {
   "cell_type": "markdown",
   "metadata": {},
   "source": [
    "# Agent: Tools"
   ]
  },
  {
   "cell_type": "markdown",
   "metadata": {},
   "source": [
    "이 튜토리얼을 통해 다음을 배울 수 있다:\n",
    "\n",
    "- LLM의 텍스트 생성 한계와 도구의 필요성을 이해한다.\n",
    "- OpenAI Function Calling API 사용법을 익힌다.\n",
    "- 실제 외부 시스템과 연동하는 도구를 구현한다.\n",
    "- 여러 도구를 조합하여 복잡한 작업을 수행한다."
   ]
  },
  {
   "cell_type": "markdown",
   "metadata": {},
   "source": [
    "## 1. 환경 설정"
   ]
  },
  {
   "cell_type": "markdown",
   "metadata": {},
   "source": [
    "### 1.1 필요한 라이브러리 설치"
   ]
  },
  {
   "cell_type": "markdown",
   "metadata": {},
   "source": [
    "### 1.2 API 키 설정"
   ]
  },
  {
   "cell_type": "code",
   "execution_count": 1,
   "metadata": {
    "tags": []
   },
   "outputs": [
    {
     "data": {
      "text/plain": [
       "True"
      ]
     },
     "execution_count": 1,
     "metadata": {},
     "output_type": "execute_result"
    }
   ],
   "source": [
    "from dotenv import load_dotenv\n",
    "import os\n",
    "\n",
    "load_dotenv()"
   ]
  },
  {
   "cell_type": "markdown",
   "metadata": {},
   "source": [
    "### 1.3 필요한 라이브러리 가져오기"
   ]
  },
  {
   "cell_type": "code",
   "execution_count": 3,
   "metadata": {
    "tags": []
   },
   "outputs": [],
   "source": [
    "import json\n",
    "import requests\n",
    "from openai import OpenAI\n",
    "\n",
    "MODEL = \"gpt-4o-mini\"\n",
    "client = OpenAI()"
   ]
  },
  {
   "cell_type": "markdown",
   "metadata": {},
   "source": [
    "## 2. 기본 도구 구현"
   ]
  },
  {
   "cell_type": "markdown",
   "metadata": {},
   "source": [
    "### 2.1 간단한 도구 함수 만들기\n",
    "먼저 LLM이 호출할 수 있는 실제 함수를 정의한다."
   ]
  },
  {
   "cell_type": "code",
   "execution_count": 4,
   "metadata": {
    "tags": []
   },
   "outputs": [
    {
     "name": "stdout",
     "output_type": "stream",
     "text": [
      "서울의 현재 기온: 19.5°C\n"
     ]
    }
   ],
   "source": [
    "def get_weather(latitude: float, longitude: float) -> float:\n",
    "    \"\"\"주어진 위도와 경도로 현재 날씨 정보를 가져오는 함수다.\"\"\"\n",
    "    response = requests.get(\n",
    "        f\"https://api.open-meteo.com/v1/forecast?latitude={latitude}&longitude={longitude}&current=temperature_2m,wind_speed_10m\"\n",
    "    )\n",
    "    data = response.json()\n",
    "    return data[\"current\"][\"temperature_2m\"]\n",
    "\n",
    "# 테스트\n",
    "# 서울의 위도, 경도: 37.5665, 126.9780\n",
    "seoul_temp = get_weather(37.5665, 126.9780)\n",
    "print(f\"서울의 현재 기온: {seoul_temp}°C\")"
   ]
  },
  {
   "cell_type": "markdown",
   "metadata": {},
   "source": [
    "### 2.2 함수 라우터 구현\n",
    "여러 도구가 있을 때 적절한 함수를 호출하는 라우터를 만든다."
   ]
  },
  {
   "cell_type": "code",
   "execution_count": 5,
   "metadata": {
    "tags": []
   },
   "outputs": [],
   "source": [
    "def call_function(name: str, args: dict):\n",
    "    \"\"\"함수 이름에 따라 적절한 함수를 호출하는 라우터 함수다.\"\"\"\n",
    "    functions = {\n",
    "        \"get_weather\": get_weather,\n",
    "    }\n",
    "    return functions[name](**args)"
   ]
  },
  {
   "cell_type": "markdown",
   "metadata": {},
   "source": [
    "## 3. Function Calling 구현"
   ]
  },
  {
   "cell_type": "markdown",
   "metadata": {},
   "source": [
    "### 3.1 도구 정의 (Tool Schema)\n",
    "LLM에게 어떤 도구를 사용할 수 있는지 알려주기 위해 도구의 스키마를 정의한다."
   ]
  },
  {
   "cell_type": "code",
   "execution_count": 6,
   "metadata": {
    "tags": []
   },
   "outputs": [],
   "source": [
    "tools = [\n",
    "    {\n",
    "        \"type\": \"function\",\n",
    "        \"function\": {\n",
    "            \"name\": \"get_weather\",\n",
    "            \"description\": \"제공된 좌표의 현재 온도를 섭씨로 가져온다.\",\n",
    "            \"parameters\": {\n",
    "                \"type\": \"object\",\n",
    "                \"properties\": {\n",
    "                    \"latitude\": {\n",
    "                        \"type\": \"number\",\n",
    "                        \"description\": \"위도 좌표\"\n",
    "                    },\n",
    "                    \"longitude\": {\n",
    "                        \"type\": \"number\",\n",
    "                        \"description\": \"경도 좌표\"\n",
    "                    },\n",
    "                },\n",
    "                \"required\": [\"latitude\", \"longitude\"],\n",
    "            },\n",
    "        },\n",
    "    }\n",
    "]"
   ]
  },
  {
   "cell_type": "markdown",
   "metadata": {},
   "source": [
    "### 3.2 도구를 사용하는 대화 흐름"
   ]
  },
  {
   "cell_type": "code",
   "execution_count": 7,
   "metadata": {
    "tags": []
   },
   "outputs": [
    {
     "name": "stdout",
     "output_type": "stream",
     "text": [
      "오늘 서울의 기온은 약 19.4도입니다. 날씨는 맑거나 구름이 약간 낀 상태일 가능성이 높습니다. 외출 시 가벼운 옷차림이 적합할 것 같습니다.\n"
     ]
    }
   ],
   "source": [
    "def intelligence_with_tools(prompt: str) -> str:\n",
    "    \"\"\"도구를 사용하여 지능적으로 응답하는 함수다.\"\"\"\n",
    "    \n",
    "    messages = [{\"role\": \"user\", \"content\": prompt}]\n",
    "    \n",
    "    # 1단계: 도구와 함께 모델을 호출한다\n",
    "    response = client.chat.completions.create(\n",
    "        model=MODEL,\n",
    "        messages=messages,\n",
    "        tools=tools,\n",
    "        tool_choice=\"auto\",  # 모델이 도구 사용 여부를 자동으로 결정한다\n",
    "    )\n",
    "    \n",
    "    response_message = response.choices[0].message\n",
    "    tool_calls = response_message.tool_calls\n",
    "    \n",
    "    # 2단계: 모델이 도구 호출을 원하는 경우 처리한다\n",
    "    if tool_calls:\n",
    "        messages.append(response_message) # LLM의 응답(도구 호출 요청)을 대화 기록에 추가한다\n",
    "        \n",
    "        # 3단계: 각 도구 호출을 실행한다\n",
    "        for tool_call in tool_calls:\n",
    "            function_name = tool_call.function.name\n",
    "            function_args = json.loads(tool_call.function.arguments)\n",
    "            function_response = call_function(function_name, function_args)\n",
    "            \n",
    "            # 4단계: 함수 실행 결과를 메시지에 추가한다\n",
    "            messages.append({\n",
    "                \"tool_call_id\": tool_call.id,\n",
    "                \"role\": \"tool\",\n",
    "                \"name\": function_name,\n",
    "                \"content\": str(function_response),\n",
    "            })\n",
    "        \n",
    "        # 5단계: 함수 결과를 포함하여 최종 응답을 생성한다\n",
    "        final_response = client.chat.completions.create(\n",
    "            model=MODEL,\n",
    "            messages=messages,\n",
    "        )\n",
    "        return final_response.choices[0].message.content\n",
    "    \n",
    "    # 도구를 사용하지 않은 경우, 첫 번째 응답을 바로 반환한다\n",
    "    return response_message.content\n",
    "\n",
    "# 사용 예시\n",
    "result = intelligence_with_tools(\"오늘 서울 날씨는 어떤가?\")\n",
    "print(result)"
   ]
  },
  {
   "cell_type": "markdown",
   "metadata": {},
   "source": [
    "## 4. 실전 예제"
   ]
  },
  {
   "cell_type": "markdown",
   "metadata": {},
   "source": [
    "### 4.1 계산기 도구\n",
    "복잡한 수학 연산을 수행하는 도구다."
   ]
  },
  {
   "cell_type": "code",
   "execution_count": 8,
   "metadata": {
    "tags": []
   },
   "outputs": [
    {
     "name": "stdout",
     "output_type": "stream",
     "text": [
      "847293 곱하기 652847은 553,152,693,171입니다.\n"
     ]
    }
   ],
   "source": [
    "def calculate(expression: str) -> float:\n",
    "    \"\"\"수학 표현식을 계산하는 함수다.\"\"\"\n",
    "    # 주의: eval()은 보안에 취약할 수 있으므로 실제 프로덕션에서는 안전한 파서를 사용해야 한다.\n",
    "    return eval(expression)\n",
    "\n",
    "# 도구 정의\n",
    "calculator_tool = {\n",
    "    \"type\": \"function\",\n",
    "    \"function\": {\n",
    "        \"name\": \"calculate\",\n",
    "        \"description\": \"수학 표현식을 계산한다. 예: '2 + 2', '15 * 7', '100 / 4'\",\n",
    "        \"parameters\": {\n",
    "            \"type\": \"object\",\n",
    "            \"properties\": {\n",
    "                \"expression\": {\n",
    "                    \"type\": \"string\",\n",
    "                    \"description\": \"계산할 수학 표현식\"\n",
    "                },\n",
    "            },\n",
    "            \"required\": [\"expression\"],\n",
    "        },\n",
    "    },\n",
    "}\n",
    "\n",
    "# 사용 예시\n",
    "def ask_with_calculator(question: str) -> str:\n",
    "    tools = [calculator_tool]\n",
    "    messages = [{\"role\": \"user\", \"content\": question}]\n",
    "    \n",
    "    response = client.chat.completions.create(\n",
    "        model=MODEL,\n",
    "        messages=messages,\n",
    "        tools=tools,\n",
    "        tool_choice=\"auto\",\n",
    "    )\n",
    "    \n",
    "    response_message = response.choices[0].message\n",
    "    tool_calls = response_message.tool_calls\n",
    "    \n",
    "    if tool_calls:\n",
    "        messages.append(response_message)\n",
    "        \n",
    "        for tool_call in tool_calls:\n",
    "            function_args = json.loads(tool_call.function.arguments)\n",
    "            result = calculate(function_args[\"expression\"])\n",
    "            \n",
    "            messages.append({\n",
    "                \"tool_call_id\": tool_call.id,\n",
    "                \"role\": \"tool\",\n",
    "                \"name\": \"calculate\",\n",
    "                \"content\": str(result),\n",
    "            })\n",
    "        \n",
    "        final_response = client.chat.completions.create(\n",
    "            model=MODEL,\n",
    "            messages=messages,\n",
    "        )\n",
    "        return final_response.choices[0].message.content\n",
    "    \n",
    "    return response_message.content\n",
    "\n",
    "print(ask_with_calculator(\"847293 곱하기 652847은 얼마야?\"))\n",
    "# LLM이 calculate 도구를 사용하여 정확한 답을 계산한다."
   ]
  },
  {
   "cell_type": "markdown",
   "metadata": {},
   "source": [
    "### 4.2 데이터베이스 조회 도구\n",
    "사용자 정보를 조회하는 가상의 데이터베이스 도구다."
   ]
  },
  {
   "cell_type": "code",
   "execution_count": 9,
   "metadata": {
    "tags": []
   },
   "outputs": [
    {
     "name": "stdout",
     "output_type": "stream",
     "text": [
      "user_001의 정보는 다음과 같습니다:\n",
      "\n",
      "- 이름: 김철수\n",
      "- 나이: 28세\n",
      "- 도시: 서울\n"
     ]
    }
   ],
   "source": [
    "# 가상 데이터베이스\n",
    "users_db = {\n",
    "    \"user_001\": {\"name\": \"김철수\", \"age\": 28, \"city\": \"서울\"},\n",
    "    \"user_002\": {\"name\": \"이영희\", \"age\": 34, \"city\": \"부산\"},\n",
    "    \"user_003\": {\"name\": \"박민수\", \"age\": 45, \"city\": \"대구\"},\n",
    "}\n",
    "\n",
    "def get_user_info(user_id: str) -> dict:\n",
    "    \"\"\"사용자 ID로 사용자 정보를 조회하는 함수다.\"\"\"\n",
    "    return users_db.get(user_id, {\"error\": \"사용자를 찾을 수 없습니다\"})\n",
    "\n",
    "# 도구 정의\n",
    "user_info_tool = {\n",
    "    \"type\": \"function\",\n",
    "    \"function\": {\n",
    "        \"name\": \"get_user_info\",\n",
    "        \"description\": \"사용자 ID로 사용자의 이름, 나이, 도시 정보를 조회한다.\",\n",
    "        \"parameters\": {\n",
    "            \"type\": \"object\",\n",
    "            \"properties\": {\n",
    "                \"user_id\": {\n",
    "                    \"type\": \"string\",\n",
    "                    \"description\": \"조회할 사용자의 ID (예: user_001)\"\n",
    "                },\n",
    "            },\n",
    "            \"required\": [\"user_id\"],\n",
    "        },\n",
    "    },\n",
    "}\n",
    "\n",
    "# 사용 예시\n",
    "def query_user(question: str) -> str:\n",
    "    tools = [user_info_tool]\n",
    "    messages = [{\"role\": \"user\", \"content\": question}]\n",
    "    \n",
    "    response = client.chat.completions.create(\n",
    "        model=MODEL,\n",
    "        messages=messages,\n",
    "        tools=tools,\n",
    "    )\n",
    "    \n",
    "    response_message = response.choices[0].message\n",
    "    tool_calls = response_message.tool_calls\n",
    "    \n",
    "    if tool_calls:\n",
    "        messages.append(response_message)\n",
    "        \n",
    "        for tool_call in tool_calls:\n",
    "            function_args = json.loads(tool_call.function.arguments)\n",
    "            result = get_user_info(function_args[\"user_id\"])\n",
    "            \n",
    "            messages.append({\n",
    "                \"tool_call_id\": tool_call.id,\n",
    "                \"role\": \"tool\",\n",
    "                \"name\": \"get_user_info\",\n",
    "                \"content\": json.dumps(result, ensure_ascii=False),\n",
    "            })\n",
    "        \n",
    "        final_response = client.chat.completions.create(\n",
    "            model=MODEL,\n",
    "            messages=messages,\n",
    "        )\n",
    "        return final_response.choices[0].message.content\n",
    "    \n",
    "    return response_message.content\n",
    "\n",
    "print(query_user(\"user_001의 정보를 알려줘\"))"
   ]
  },
  {
   "cell_type": "markdown",
   "metadata": {},
   "source": [
    "### 4.3 파일 작업 도구\n",
    "텍스트 파일을 읽고 쓰는 도구다."
   ]
  },
  {
   "cell_type": "code",
   "execution_count": 10,
   "metadata": {
    "tags": []
   },
   "outputs": [],
   "source": [
    "def read_file(filename: str) -> str:\n",
    "    \"\"\"파일 내용을 읽어오는 함수다.\"\"\"\n",
    "    try:\n",
    "        with open(filename, 'r', encoding='utf-8') as f:\n",
    "            return f.read()\n",
    "    except FileNotFoundError:\n",
    "        return f\"오류: 파일 '{filename}'을 찾을 수 없다.\"\n",
    "    except Exception as e:\n",
    "        return f\"파일 읽기 중 오류 발생: {e}\"\n",
    "\n",
    "def write_file(filename: str, content: str) -> str:\n",
    "    \"\"\"파일에 내용을 쓰는 함수다.\"\"\"\n",
    "    try:\n",
    "        with open(filename, 'w', encoding='utf-8') as f:\n",
    "            f.write(content)\n",
    "        return f\"파일 '{filename}'에 저장 완료\"\n",
    "    except Exception as e:\n",
    "        return f\"파일 쓰기 중 오류 발생: {e}\"\n",
    "\n",
    "# 도구 정의\n",
    "file_tools = [\n",
    "    {\n",
    "        \"type\": \"function\",\n",
    "        \"function\": {\n",
    "            \"name\": \"read_file\",\n",
    "            \"description\": \"지정된 파일의 내용을 읽어온다.\",\n",
    "            \"parameters\": {\n",
    "                \"type\": \"object\",\n",
    "                \"properties\": {\n",
    "                    \"filename\": {\"type\": \"string\", \"description\": \"읽을 파일 이름\"},\n",
    "                },\n",
    "                \"required\": [\"filename\"],\n",
    "            },\n",
    "        },\n",
    "    },\n",
    "    {\n",
    "        \"type\": \"function\",\n",
    "        \"function\": {\n",
    "            \"name\": \"write_file\",\n",
    "            \"description\": \"지정된 파일에 내용을 저장한다.\",\n",
    "            \"parameters\": {\n",
    "                \"type\": \"object\",\n",
    "                \"properties\": {\n",
    "                    \"filename\": {\"type\": \"string\", \"description\": \"저장할 파일 이름\"},\n",
    "                    \"content\": {\"type\": \"string\", \"description\": \"저장할 내용\"},\n",
    "                },\n",
    "                \"required\": [\"filename\", \"content\"],\n",
    "            },\n",
    "        },\n",
    "    },\n",
    "]\n",
    "\n",
    "# 파일 함수 라우터\n",
    "def call_file_function(name: str, args: dict):\n",
    "    \"\"\"파일 관련 함수를 호출하는 라우터다.\"\"\"\n",
    "    functions = {\n",
    "        \"read_file\": read_file,\n",
    "        \"write_file\": write_file,\n",
    "    }\n",
    "    return functions[name](**args)"
   ]
  },
  {
   "cell_type": "markdown",
   "metadata": {},
   "source": [
    "## 5. 여러 도구를 조합하기"
   ]
  },
  {
   "cell_type": "markdown",
   "metadata": {},
   "source": [
    "### 5.1 Pydantic을 활용한 타입 안전한 도구 정의\n",
    "Pydantic을 사용하면 도구의 파라미터를 타입 안전하게 정의하고 자동으로 검증할 수 있다."
   ]
  },
  {
   "cell_type": "markdown",
   "metadata": {},
   "source": [
    "#### 5.1.1 설치 및 기본 사용법"
   ]
  },
  {
   "cell_type": "code",
   "execution_count": 11,
   "metadata": {
    "tags": []
   },
   "outputs": [
    {
     "name": "stdout",
     "output_type": "stream",
     "text": [
      "{\n",
      "  \"type\": \"function\",\n",
      "  \"function\": {\n",
      "    \"name\": \"get_weather\",\n",
      "    \"description\": \"제공된 좌표의 현재 온도를 섭씨로 가져온다.\",\n",
      "    \"parameters\": {\n",
      "      \"description\": \"날씨 조회 파라미터 모델이다.\",\n",
      "      \"properties\": {\n",
      "        \"latitude\": {\n",
      "          \"description\": \"위도 좌표\",\n",
      "          \"title\": \"Latitude\",\n",
      "          \"type\": \"number\"\n",
      "        },\n",
      "        \"longitude\": {\n",
      "          \"description\": \"경도 좌표\",\n",
      "          \"title\": \"Longitude\",\n",
      "          \"type\": \"number\"\n",
      "        }\n",
      "      },\n",
      "      \"required\": [\n",
      "        \"latitude\",\n",
      "        \"longitude\"\n",
      "      ],\n",
      "      \"title\": \"WeatherParams\",\n",
      "      \"type\": \"object\"\n",
      "    }\n",
      "  }\n",
      "}\n"
     ]
    }
   ],
   "source": [
    "from pydantic import BaseModel, Field\n",
    "from typing import Optional\n",
    "\n",
    "class WeatherParams(BaseModel):\n",
    "    \"\"\"날씨 조회 파라미터 모델이다.\"\"\"\n",
    "    latitude: float = Field(..., description=\"위도 좌표\")\n",
    "    longitude: float = Field(..., description=\"경도 좌표\")\n",
    "\n",
    "class CalculateParams(BaseModel):\n",
    "    \"\"\"계산기 파라미터 모델이다.\"\"\"\n",
    "    expression: str = Field(..., description=\"계산할 수학 표현식\")\n",
    "\n",
    "# Pydantic 모델을 JSON Schema로 변환\n",
    "def pydantic_to_function_schema(name: str, description: str, model: type[BaseModel]) -> dict:\n",
    "    \"\"\"Pydantic 모델을 OpenAI Function Schema로 변환한다.\"\"\"\n",
    "    return {\n",
    "        \"type\": \"function\",\n",
    "        \"function\": {\n",
    "            \"name\": name,\n",
    "            \"description\": description,\n",
    "            \"parameters\": model.model_json_schema(),\n",
    "        },\n",
    "    }\n",
    "\n",
    "# 도구 정의\n",
    "weather_tool_pydantic = pydantic_to_function_schema(\n",
    "    name=\"get_weather\",\n",
    "    description=\"제공된 좌표의 현재 온도를 섭씨로 가져온다.\",\n",
    "    model=WeatherParams\n",
    ")\n",
    "\n",
    "calculator_tool_pydantic = pydantic_to_function_schema(\n",
    "    name=\"calculate\",\n",
    "    description=\"수학 표현식을 계산한다.\",\n",
    "    model=CalculateParams\n",
    ")\n",
    "\n",
    "print(json.dumps(weather_tool_pydantic, indent=2, ensure_ascii=False))"
   ]
  },
  {
   "cell_type": "markdown",
   "metadata": {},
   "source": [
    "#### 5.1.2 복잡한 파라미터 모델"
   ]
  },
  {
   "cell_type": "code",
   "execution_count": 12,
   "metadata": {
    "tags": []
   },
   "outputs": [],
   "source": [
    "from pydantic import BaseModel, Field\n",
    "from typing import Optional, Literal\n",
    "from datetime import datetime\n",
    "\n",
    "class SearchProductParams(BaseModel):\n",
    "    \"\"\"제품 검색 파라미터 모델이다.\"\"\"\n",
    "    query: str = Field(..., description=\"검색할 제품 이름 또는 키워드\")\n",
    "    category: Optional[str] = Field(None, description=\"제품 카테고리 (전자제품, 의류, 식품 등)\")\n",
    "    min_price: Optional[float] = Field(None, ge=0, description=\"최소 가격\")\n",
    "    max_price: Optional[float] = Field(None, ge=0, description=\"최대 가격\")\n",
    "    in_stock: bool = Field(True, description=\"재고 있는 제품만 검색\")\n",
    "    sort_by: Literal[\"price\", \"rating\", \"newest\"] = Field(\"rating\", description=\"정렬 기준\")\n",
    "\n",
    "class UserInfoParams(BaseModel):\n",
    "    \"\"\"사용자 정보 조회 파라미터 모델이다.\"\"\"\n",
    "    user_id: str = Field(..., description=\"사용자 ID\", min_length=3)\n",
    "    include_orders: bool = Field(False, description=\"주문 내역 포함 여부\")\n",
    "\n",
    "# 함수 구현\n",
    "def search_products(query: str, category: Optional[str] = None, \n",
    "                   min_price: Optional[float] = None, max_price: Optional[float] = None,\n",
    "                   in_stock: bool = True, sort_by: str = \"rating\") -> list:\n",
    "    \"\"\"제품을 검색하는 함수다.\"\"\"\n",
    "    print(f\"Searching for: {query}, Category: {category}, Price: {min_price}-{max_price}\")\n",
    "    products = [\n",
    "        {\"name\": \"무선 마우스\", \"price\": 25000, \"category\": \"전자제품\", \"rating\": 4.5},\n",
    "        {\"name\": \"키보드\", \"price\": 89000, \"category\": \"전자제품\", \"rating\": 4.8},\n",
    "    ]\n",
    "    return [p for p in products if query.lower() in p[\"name\"].lower()]"
   ]
  },
  {
   "cell_type": "markdown",
   "metadata": {},
   "source": [
    "#### 5.1.3 타입 검증이 포함된 통합 에이전트"
   ]
  },
  {
   "cell_type": "code",
   "execution_count": 13,
   "metadata": {
    "tags": []
   },
   "outputs": [
    {
     "name": "stdout",
     "output_type": "stream",
     "text": [
      "Searching for: 무선 마우스, Category: None, Price: None-50000.0\n",
      "5만원 이하의 무선 마우스를 찾았습니다. 다음은 제품 정보입니다:\n",
      "\n",
      "- **제품명**: 무선 마우스\n",
      "- **가격**: 25,000원\n",
      "- **카테고리**: 전자제품\n",
      "- **평점**: 4.5\n",
      "\n",
      "필요한 정보가 더 있으면 말씀해 주세요!\n"
     ]
    }
   ],
   "source": [
    "from pydantic import BaseModel, ValidationError\n",
    "import json\n",
    "\n",
    "class PydanticToolAgent:\n",
    "    \"\"\"Pydantic 모델을 사용하는 타입 안전한 에이전트다.\"\"\"\n",
    "    \n",
    "    def __init__(self):\n",
    "        self.client = OpenAI()\n",
    "        self.tools = []\n",
    "        self.functions = {}\n",
    "        self.param_models = {}\n",
    "    \n",
    "    def add_tool(self, name: str, description: str, \n",
    "                 function: callable, param_model: type[BaseModel]):\n",
    "        \"\"\"Pydantic 모델과 함께 도구를 추가한다.\"\"\"\n",
    "        tool_schema = pydantic_to_function_schema(name, description, param_model)\n",
    "        self.tools.append(tool_schema)\n",
    "        self.functions[name] = function\n",
    "        self.param_models[name] = param_model\n",
    "    \n",
    "    def execute_function(self, name: str, args: dict):\n",
    "        \"\"\"파라미터를 검증한 후 함수를 실행한다.\"\"\"\n",
    "        try:\n",
    "            param_model = self.param_models[name]\n",
    "            validated_params = param_model(**args)\n",
    "            return self.functions[name](**validated_params.model_dump())\n",
    "        except ValidationError as e:\n",
    "            return f\"파라미터 오류: {e}\"\n",
    "        except Exception as e:\n",
    "            return f\"함수 실행 오류: {e}\"\n",
    "    \n",
    "    def chat(self, message: str) -> str:\n",
    "        \"\"\"사용자 메시지를 처리한다.\"\"\"\n",
    "        messages = [{\"role\": \"user\", \"content\": message}]\n",
    "        \n",
    "        response = self.client.chat.completions.create(\n",
    "            model=MODEL,\n",
    "            messages=messages,\n",
    "            tools=self.tools,\n",
    "        )\n",
    "        \n",
    "        response_message = response.choices[0].message\n",
    "        tool_calls = response_message.tool_calls\n",
    "        \n",
    "        if tool_calls:\n",
    "            messages.append(response_message)\n",
    "            \n",
    "            for tool_call in tool_calls:\n",
    "                function_name = tool_call.function.name\n",
    "                function_args = json.loads(tool_call.function.arguments)\n",
    "                result = self.execute_function(function_name, function_args)\n",
    "                \n",
    "                messages.append({\n",
    "                    \"tool_call_id\": tool_call.id,\n",
    "                    \"role\": \"tool\",\n",
    "                    \"name\": function_name,\n",
    "                    \"content\": str(result),\n",
    "                })\n",
    "            \n",
    "            final_response = self.client.chat.completions.create(\n",
    "                model=MODEL,\n",
    "                messages=messages,\n",
    "            )\n",
    "            return final_response.choices[0].message.content\n",
    "        \n",
    "        return response_message.content\n",
    "\n",
    "# 사용 예시\n",
    "pydantic_agent = PydanticToolAgent()\n",
    "\n",
    "pydantic_agent.add_tool(\n",
    "    name=\"search_products\",\n",
    "    description=\"제품을 검색한다.\",\n",
    "    function=search_products,\n",
    "    param_model=SearchProductParams\n",
    ")\n",
    "\n",
    "print(pydantic_agent.chat(\"5만원 이하의 무선 마우스를 찾아줘\"))"
   ]
  },
  {
   "cell_type": "markdown",
   "metadata": {},
   "source": [
    "### 5.2 통합 에이전트 클래스\n",
    "여러 도구를 관리하는 에이전트 클래스를 만든다."
   ]
  },
  {
   "cell_type": "code",
   "execution_count": 14,
   "metadata": {
    "tags": []
   },
   "outputs": [
    {
     "name": "stdout",
     "output_type": "stream",
     "text": [
      "서울의 현재 기온은 19.4도입니다.\n",
      "123 곱하기 456은 56,088입니다.\n"
     ]
    }
   ],
   "source": [
    "class ToolAgent:\n",
    "    \"\"\"여러 도구를 사용할 수 있는 AI 에이전트 클래스다.\"\"\"\n",
    "    \n",
    "    def __init__(self):\n",
    "        self.client = OpenAI()\n",
    "        self.tools = []\n",
    "        self.functions = {}\n",
    "    \n",
    "    def add_tool(self, tool_schema: dict, function: callable):\n",
    "        \"\"\"도구를 에이전트에 추가한다.\"\"\"\n",
    "        self.tools.append(tool_schema)\n",
    "        function_name = tool_schema[\"function\"][\"name\"]\n",
    "        self.functions[function_name] = function\n",
    "    \n",
    "    def execute_function(self, name: str, args: dict):\n",
    "        \"\"\"등록된 함수를 실행한다.\"\"\"\n",
    "        return self.functions[name](**args)\n",
    "    \n",
    "    def chat(self, message: str) -> str:\n",
    "        \"\"\"사용자 메시지를 처리하고 필요시 도구를 사용한다.\"\"\"\n",
    "        messages = [{\"role\": \"user\", \"content\": message}]\n",
    "        \n",
    "        response = self.client.chat.completions.create(\n",
    "            model=\"gpt-4o-mini\",\n",
    "            messages=messages,\n",
    "            tools=self.tools,\n",
    "        )\n",
    "        \n",
    "        response_message = response.choices[0].message\n",
    "        tool_calls = response_message.tool_calls\n",
    "        \n",
    "        if tool_calls:\n",
    "            messages.append(response_message)\n",
    "            \n",
    "            for tool_call in tool_calls:\n",
    "                function_name = tool_call.function.name\n",
    "                function_args = json.loads(tool_call.function.arguments)\n",
    "                result = self.execute_function(function_name, function_args)\n",
    "                \n",
    "                messages.append({\n",
    "                    \"tool_call_id\": tool_call.id,\n",
    "                    \"role\": \"tool\",\n",
    "                    \"name\": function_name,\n",
    "                    \"content\": str(result),\n",
    "                })\n",
    "            \n",
    "            final_response = self.client.chat.completions.create(\n",
    "                model=MODEL,\n",
    "                messages=messages,\n",
    "            )\n",
    "            return final_response.choices[0].message.content\n",
    "        \n",
    "        return response_message.content\n",
    "\n",
    "# 사용 예시\n",
    "agent = ToolAgent()\n",
    "\n",
    "# 날씨 도구 추가\n",
    "agent.add_tool(tools[0], get_weather) # 3.1에서 정의한 weather tool\n",
    "\n",
    "# 계산기 도구 추가\n",
    "agent.add_tool(calculator_tool, calculate)\n",
    "\n",
    "# 테스트\n",
    "print(agent.chat(\"서울(위도 37.5665, 경도 126.9780)의 현재 기온은?\"))\n",
    "print(agent.chat(\"123 곱하기 456은?\"))"
   ]
  },
  {
   "cell_type": "markdown",
   "metadata": {},
   "source": [
    "### 5.3 복합 작업 수행\n",
    "여러 도구를 순차적으로 사용하는 예제다."
   ]
  },
  {
   "cell_type": "code",
   "execution_count": 15,
   "metadata": {
    "tags": []
   },
   "outputs": [
    {
     "name": "stdout",
     "output_type": "stream",
     "text": [
      "현재 환율에 따라 150 유로는 약 217,500 원입니다. (1 유로 = 1,450 원 기준)\n"
     ]
    }
   ],
   "source": [
    "def get_currency_rate(from_currency: str, to_currency: str) -> float:\n",
    "    \"\"\"환율 정보를 가져오는 가상 함수다.\"\"\"\n",
    "    rates = {\n",
    "        (\"USD\", \"KRW\"): 1350.0,\n",
    "        (\"EUR\", \"KRW\"): 1450.0,\n",
    "        (\"JPY\", \"KRW\"): 9.0, # 100엔 기준이 아닌 1엔 기준\n",
    "    }\n",
    "    return rates.get((from_currency, to_currency), 1.0)\n",
    "\n",
    "# 환율 도구 정의\n",
    "currency_tool = {\n",
    "    \"type\": \"function\",\n",
    "    \"function\": {\n",
    "        \"name\": \"get_currency_rate\",\n",
    "        \"description\": \"두 통화 간의 환율을 조회한다.\",\n",
    "        \"parameters\": {\n",
    "            \"type\": \"object\",\n",
    "            \"properties\": {\n",
    "                \"from_currency\": {\"type\": \"string\", \"description\": \"원본 통화 코드(예: USD)\"},\n",
    "                \"to_currency\": {\"type\": \"string\", \"description\": \"대상 통화 코드(예: KRW)\"},\n",
    "            },\n",
    "            \"required\": [\"from_currency\", \"to_currency\"],\n",
    "        },\n",
    "    },\n",
    "}\n",
    "\n",
    "# 새로운 에이전트를 만들고 도구들을 추가한다\n",
    "financial_agent = ToolAgent()\n",
    "financial_agent.add_tool(currency_tool, get_currency_rate)\n",
    "financial_agent.add_tool(calculator_tool, calculate)\n",
    "\n",
    "# 복합 질문\n",
    "print(financial_agent.chat(\"150 유로는 한국 원화로 얼마야? 계산해서 정확한 금액을 알려줘\"))"
   ]
  },
  {
   "cell_type": "markdown",
   "metadata": {},
   "source": [
    "## 6. 도구 사용 모범 사례"
   ]
  },
  {
   "cell_type": "markdown",
   "metadata": {},
   "source": [
    "### 6.1 도구 선택 제어\n",
    "`tool_choice` 매개변수로 도구 사용을 제어할 수 있다.\n",
    "\n",
    "- `\"auto\"` (기본값): LLM이 필요하다고 판단할 때 자동으로 도구를 선택한다.\n",
    "- `\"required\"`: 반드시 등록된 도구 중 하나를 사용하도록 강제한다.\n",
    "- `{\"type\": \"function\", \"function\": {\"name\": \"get_weather\"}}`: 특정 도구의 사용을 강제한다.\n",
    "- `\"none\"`: 도구를 절대 사용하지 않도록 강제한다. LLM은 도구 없이 텍스트로만 답변한다."
   ]
  },
  {
   "cell_type": "markdown",
   "metadata": {},
   "source": [
    "### 6.2 결과 형식 표준화\n",
    "도구의 반환 값을 일관된 형식(예: JSON)으로 유지하면 LLM이 결과를 더 잘 이해하고 처리할 수 있다."
   ]
  },
  {
   "cell_type": "code",
   "execution_count": 16,
   "metadata": {
    "tags": []
   },
   "outputs": [],
   "source": [
    "def get_product_info(product_id: str) -> dict:\n",
    "    \"\"\"제품 정보를 표준 형식으로 반환한다.\"\"\"\n",
    "    products = {\n",
    "        \"prod_001\": {\n",
    "            \"name\": \"무선 마우스\",\n",
    "            \"price\": 25000,\n",
    "            \"stock\": 15,\n",
    "            \"category\": \"전자제품\"\n",
    "        }\n",
    "    }\n",
    "    \n",
    "    product = products.get(product_id)\n",
    "    \n",
    "    return {\n",
    "        \"success\": True if product else False,\n",
    "        \"data\": product,\n",
    "        \"message\": \"조회 완료\" if product else \"제품을 찾을 수 없습니다\"\n",
    "    }"
   ]
  }
 ],
 "metadata": {
  "kernelspec": {
   "display_name": "lecture",
   "language": "python",
   "name": "lecture"
  },
  "language_info": {
   "codemirror_mode": {
    "name": "ipython",
    "version": 3
   },
   "file_extension": ".py",
   "mimetype": "text/x-python",
   "name": "python",
   "nbconvert_exporter": "python",
   "pygments_lexer": "ipython3",
   "version": "3.11.7"
  }
 },
 "nbformat": 4,
 "nbformat_minor": 4
}
