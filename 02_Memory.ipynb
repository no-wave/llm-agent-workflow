{
 "cells": [
  {
   "cell_type": "markdown",
   "metadata": {},
   "source": [
    "# Agent: Memory"
   ]
  },
  {
   "cell_type": "markdown",
   "metadata": {},
   "source": [
    "이 튜토리얼을 통해 다음을 배울 수 있다:\n",
    "\n",
    "- LLM의 상태 비저장(stateless) 특성을 이해한다.\n",
    "- 대화 컨텍스트를 수동으로 관리하는 기본 메모리를 구현한다.\n",
    "- mem0 라이브러리를 활용한 지능형 장기 메모리를 구축한다.\n",
    "- 실전 고객 지원 에이전트에 메모리를 적용한다."
   ]
  },
  {
   "cell_type": "markdown",
   "metadata": {},
   "source": [
    "## 1. 환경 설정"
   ]
  },
  {
   "cell_type": "markdown",
   "metadata": {},
   "source": [
    "### 1.1 필요한 라이브러리 설치"
   ]
  },
  {
   "cell_type": "code",
   "execution_count": null,
   "metadata": {},
   "outputs": [],
   "source": [
    "# 고급 메모리 관리 (mem0)\n",
    "%pip install -q mem0ai"
   ]
  },
  {
   "cell_type": "markdown",
   "metadata": {},
   "source": [
    "### 1.2 API 키 설정"
   ]
  },
  {
   "cell_type": "code",
   "execution_count": 1,
   "metadata": {
    "tags": []
   },
   "outputs": [],
   "source": [
    "from dotenv import load_dotenv\n",
    "import os\n",
    "\n",
    "# .env 파일에서 환경 변수를 로드한다\n",
    "load_dotenv()\n",
    "\n",
    "# API 키 확인 (선택사항)\n",
    "api_key = os.getenv('OPENAI_API_KEY')"
   ]
  },
  {
   "cell_type": "markdown",
   "metadata": {},
   "source": [
    "### 1.3 OpenAI 클라이언트 초기화"
   ]
  },
  {
   "cell_type": "code",
   "execution_count": 4,
   "metadata": {
    "tags": []
   },
   "outputs": [],
   "source": [
    "from openai import OpenAI\n",
    "\n",
    "MODEL = \"gpt-4o-mini\"\n",
    "\n",
    "# OpenAI 클라이언트를 생성한다\n",
    "client = OpenAI()"
   ]
  },
  {
   "cell_type": "markdown",
   "metadata": {},
   "source": [
    "## 2. 기본 메모리: 대화 기록 수동 관리"
   ]
  },
  {
   "cell_type": "markdown",
   "metadata": {},
   "source": [
    "### 2.1 메모리 없는 대화의 문제점\n",
    "먼저 메모리가 없을 때 어떤 문제가 발생하는지 확인해본다."
   ]
  },
  {
   "cell_type": "code",
   "execution_count": 5,
   "metadata": {
    "tags": []
   },
   "outputs": [
    {
     "name": "stdout",
     "output_type": "stream",
     "text": [
      "=== 첫 번째 질문 (농담) ===\n",
      "물론이죠! 여기 프로그래밍 관련 농담 하나 있습니다:\n",
      "\n",
      "왜 프로그래머는 바다를 좋아할까요?\n",
      "\n",
      "왜냐하면 바다에 “버그”가 없거든요! 😄\n",
      "\n",
      "더 필요하시면 언제든지 말씀해 주세요!\n",
      "\n",
      "=== 두 번째 질문 (메모리 없음) ===\n",
      "죄송하지만, 이전 질문의 내용을 기억하거나 저장할 수 없습니다. 새로운 질문이 있으시면 언제든지 말씀해 주세요!\n"
     ]
    }
   ],
   "source": [
    "def ask_joke_without_memory():\n",
    "    \"\"\"메모리 없이 농담을 요청하는 함수다.\"\"\"\n",
    "    response = client.chat.completions.create(\n",
    "        model=MODEL,\n",
    "        messages=[\n",
    "            {\"role\": \"user\", \"content\": \"프로그래밍에 대한 농담을 해줘.\"},\n",
    "        ],\n",
    "    )\n",
    "    return response.choices[0].message.content\n",
    "\n",
    "def ask_followup_without_memory():\n",
    "    \"\"\"메모리 없이 후속 질문을 하는 함수다.\"\"\"\n",
    "    response = client.chat.completions.create(\n",
    "        model=\"gpt-4o-mini\",\n",
    "        messages=[\n",
    "            {\"role\": \"user\", \"content\": \"내 이전 질문은 무엇이었나?\"},\n",
    "        ],\n",
    "    )\n",
    "    return response.choices[0].message.content\n",
    "\n",
    "# 실행 예제\n",
    "joke_response = ask_joke_without_memory()\n",
    "print(\"=== 첫 번째 질문 (농담) ===\")\n",
    "print(joke_response)\n",
    "\n",
    "followup_response = ask_followup_without_memory()\n",
    "print(\"\\n=== 두 번째 질문 (메모리 없음) ===\")\n",
    "print(followup_response)\n",
    "# 출력 예상: \"죄송하지만, 저는 이전 대화 내용을 기억할 수 없습니다. 어떤 질문을 하셨는지 다시 알려주시겠어요?\""
   ]
  },
  {
   "cell_type": "markdown",
   "metadata": {},
   "source": [
    "**결과**: AI는 방금 전에 농담을 했다는 사실을 전혀 기억하지 못한다."
   ]
  },
  {
   "cell_type": "markdown",
   "metadata": {},
   "source": [
    "### 2.2 대화 기록을 포함한 기본 메모리 구현\n",
    "이전 대화 내용을 `messages` 배열에 포함하면 AI가 맥락을 이해할 수 있다."
   ]
  },
  {
   "cell_type": "code",
   "execution_count": 6,
   "metadata": {
    "tags": []
   },
   "outputs": [
    {
     "name": "stdout",
     "output_type": "stream",
     "text": [
      "\n",
      "=== 세 번째 질문 (메모리 사용) ===\n",
      "당신의 이전 질문은 \"프로그래밍에 대한 농담을 해줘.\"였습니다. 추가로 궁금한 점이나 다른 요청이 있으시면 말씀해 주세요!\n"
     ]
    }
   ],
   "source": [
    "def ask_followup_with_memory(joke_response: str):\n",
    "    \"\"\"이전 대화 내용을 포함하여 후속 질문을 하는 함수다.\"\"\"\n",
    "    response = client.chat.completions.create(\n",
    "        model=MODEL,\n",
    "        messages=[\n",
    "            # 첫 번째 대화를 포함한다\n",
    "            {\"role\": \"user\", \"content\": \"프로그래밍에 대한 농담을 해줘.\"},\n",
    "            {\"role\": \"assistant\", \"content\": joke_response},\n",
    "            # 두 번째 질문을 추가한다\n",
    "            {\"role\": \"user\", \"content\": \"내 이전 질문은 무엇이었나?\"},\n",
    "        ],\n",
    "    )\n",
    "    return response.choices[0].message.content\n",
    "\n",
    "# 실행 예제\n",
    "memory_response = ask_followup_with_memory(joke_response)\n",
    "print(\"\\n=== 세 번째 질문 (메모리 사용) ===\")\n",
    "print(memory_response)\n",
    "# 출력 예상: \"당신의 이전 질문은 '프로그래밍에 대한 농담을 해줘.'였습니다.\""
   ]
  },
  {
   "cell_type": "markdown",
   "metadata": {},
   "source": [
    "### 핵심 개념:\n",
    "\n",
    "- `messages` 배열에 이전 대화를 순서대로 포함한다.\n",
    "- `role`은 \"user\", \"assistant\", \"system\" 중 하나다.\n",
    "- AI는 전체 대화 흐름을 보고 맥락을 파악한다."
   ]
  },
  {
   "cell_type": "markdown",
   "metadata": {},
   "source": [
    "### 2.3 다중 턴 대화 관리 클래스\n",
    "실제 애플리케이션에서는 대화 기록을 체계적으로 관리해야 한다."
   ]
  },
  {
   "cell_type": "code",
   "execution_count": 7,
   "metadata": {
    "tags": []
   },
   "outputs": [
    {
     "name": "stdout",
     "output_type": "stream",
     "text": [
      "=== 다중 턴 대화 예제 ===\n",
      "사용자: 파이썬이 뭐야?\n",
      "AI: 파이썬(Python)은 널리 사용되는 고급 프로그래밍 언어입니다. 1991년 귀도 반 로섬(Guido van Rossum)에 의해 처음 만들어졌고, 그 이후로 많은 사람들이 사용하고 있습니다. 파이썬은 다음과 같은 특징을 가지고 있습니다:\n",
      "\n",
      "1. **간결하고 읽기 쉬운 문법**: 파이썬은 문법이 직관적이어서 다른 언어보다 배우기가 쉽습니다. 이는 초보자들이 프로그래밍을 시작하는 데 큰 도움이 됩니다.\n",
      "\n",
      "2. **다양한 용도**: 웹 개발, 데이터 분석, 인공지능, 자동화, 게임 개발 등 다양한 분야에서 사용할 수 있습니다.\n",
      "\n",
      "3. **광범위한 라이브러리와 프레임워크**: 파이썬에는 많은 라이브러리(특정 작업을 쉽게 해주는 코드 모음)가 있어서, 복잡한 작업도 쉽게 처리할 수 있습니다. 예를 들어, 데이터 분석에 많이 사용되는 `pandas`, 머신러닝에 사용되는 `scikit-learn`, 웹 개발에 쓰이는 `Django`와 `Flask` 같은 것들이 있습니다.\n",
      "\n",
      "4. **큰 커뮤니티**: 파이썬은 많은 사람들이 사용하고 있기 때문에, 문제를 해결하기 위한 자료나 도움을 찾기가 쉽습니다.\n",
      "\n",
      "5. **플랫폼 독립적**: 파이썬은 Windows, macOS, Linux 등 다양한 운영체제에서 사용할 수 있습니다.\n",
      "\n",
      "이러한 특징들 덕분에 파이썬은 많은 사람들에게 사랑받는 프로그래밍 언어가 되었습니다. 특히 초보자에게 추천되는 언어 중 하나입니다.\n",
      "\n",
      "사용자: 그럼 변수는 뭐야?\n",
      "AI: 변수는 프로그래밍에서 데이터를 저장하는 \"상자\"와 같은 개념입니다. 쉽게 말해, 변수를 사용하면 데이터를 이름으로 붙여서 그 데이터를 추적하고 사용할 수 있습니다. 예를 들어, 사람의 나이, 이름, 점수 같은 정보를 저장할 수 있습니다.\n",
      "\n",
      "### 변수의 특징\n",
      "\n",
      "1. **이름**: 변수는 특정한 이름을 가집니다. 이 이름을 통해 변수에 저장된 데이터에 접근할 수 있습니다. 예를 들어, `age`라는 변수에는 나이를 저장할 수 있습니다.\n",
      "\n",
      "2. **값**: 변수는 데이터를 저장하는데, 이 데이터를 \"값(value)\"이라고 합니다. 변수에 할당된 값은 언제든지 변경할 수 있습니다.\n",
      "\n",
      "3. **타입**: 변수는 다양한 타입의 값을 가질 수 있습니다. 예를 들어, 숫자, 문자열, 불린(참/거짓) 같은 여러 타입이 있습니다.\n",
      "\n",
      "### 예제\n",
      "\n",
      "여기 파이썬에서 변수를 사용하는 간단한 예제를 보여드릴게요:\n",
      "\n",
      "```python\n",
      "# 변수 선언과 값 할당\n",
      "age = 25            # 정수형 변수\n",
      "name = \"John\"      # 문자열형 변수\n",
      "is_student = True   # 불린형 변수\n",
      "\n",
      "# 변수 출력\n",
      "print(\"이름:\", name)\n",
      "print(\"나이:\", age)\n",
      "print(\"학생인가요?:\", is_student)\n",
      "```\n",
      "\n",
      "위 코드에서:\n",
      "- `age`라는 변수에 `25`라는 정수값을 저장했습니다.\n",
      "- `name`이라는 변수에 `\"John\"`이라는 문자열을 저장했습니다.\n",
      "- `is_student`라는 변수에는 `True`라는 불린 값을 저장했습니다.\n",
      "\n",
      "이렇게 변수에 값을 저장하고, 그 값을 나중에 사용할 수 있습니다. 변수를 활용하면 프로그램을 작성할 때 필요한 데이터를 관리하기가 훨씬 쉬워집니다.\n",
      "\n",
      "사용자: 아까 내가 처음에 뭘 물어봤지?\n",
      "AI: 처음에 \"파이썬이 뭐야?\"라고 물어보셨습니다. 파이썬에 대해 설명해 드렸고, 이어서 변수가 무엇인지에 대한 질문을 해주셨습니다. 추가로 궁금한 점이나 다른 질문이 있으시면 언제든지 말씀해 주세요!\n"
     ]
    }
   ],
   "source": [
    "class SimpleConversation:\n",
    "    \"\"\"기본적인 대화 메모리를 관리하는 클래스다.\"\"\"\n",
    "    \n",
    "    def __init__(self, system_prompt: str = None):\n",
    "        \"\"\"\n",
    "        대화를 초기화한다.\n",
    "        \n",
    "        Args:\n",
    "            system_prompt: AI의 역할과 행동을 정의하는 시스템 메시지다.\n",
    "        \"\"\"\n",
    "        self.messages = []\n",
    "        \n",
    "        # 시스템 프롬프트가 있으면 첫 메시지로 추가한다\n",
    "        if system_prompt:\n",
    "            self.messages.append({\"role\": \"system\", \"content\": system_prompt})\n",
    "    \n",
    "    def add_user_message(self, content: str):\n",
    "        \"\"\"사용자 메시지를 대화 기록에 추가한다.\"\"\"\n",
    "        self.messages.append({\"role\": \"user\", \"content\": content})\n",
    "    \n",
    "    def add_assistant_message(self, content: str):\n",
    "        \"\"\"AI 응답을 대화 기록에 추가한다.\"\"\"\n",
    "        self.messages.append({\"role\": \"assistant\", \"content\": content})\n",
    "    \n",
    "    def get_response(self) -> str:\n",
    "        \"\"\"현재 대화 기록을 바탕으로 AI 응답을 생성한다.\"\"\"\n",
    "        response = client.chat.completions.create(\n",
    "            model=MODEL,\n",
    "            messages=self.messages\n",
    "        )\n",
    "        \n",
    "        assistant_message = response.choices[0].message.content\n",
    "        \n",
    "        # AI 응답을 대화 기록에 추가한다\n",
    "        self.add_assistant_message(assistant_message)\n",
    "        \n",
    "        return assistant_message\n",
    "    \n",
    "    def chat(self, user_message: str) -> str:\n",
    "        \"\"\"\n",
    "        사용자 메시지를 받아 AI 응답을 반환하는 편의 메서드다.\n",
    "        \n",
    "        Args:\n",
    "            user_message: 사용자의 질문이나 메시지다.\n",
    "            \n",
    "        Returns:\n",
    "            AI의 응답이다.\n",
    "        \"\"\"\n",
    "        self.add_user_message(user_message)\n",
    "        return self.get_response()\n",
    "    \n",
    "    def clear_history(self):\n",
    "        \"\"\"대화 기록을 초기화한다 (시스템 메시지는 유지).\"\"\"\n",
    "        system_messages = [msg for msg in self.messages if msg[\"role\"] == \"system\"]\n",
    "        self.messages = system_messages\n",
    "\n",
    "# 사용 예제\n",
    "conversation = SimpleConversation(\n",
    "    system_prompt=\"당신은 친절한 프로그래밍 튜터다. 초보자도 이해하기 쉽게 설명한다.\"\n",
    ")\n",
    "\n",
    "print(\"=== 다중 턴 대화 예제 ===\")\n",
    "print(f\"사용자: 파이썬이 뭐야?\")\n",
    "print(f\"AI: {conversation.chat('파이썬이 뭐야?')}\\n\")\n",
    "\n",
    "print(f\"사용자: 그럼 변수는 뭐야?\")\n",
    "print(f\"AI: {conversation.chat('그럼 변수는 뭐야?')}\\n\")\n",
    "\n",
    "print(f\"사용자: 아까 내가 처음에 뭘 물어봤지?\")\n",
    "print(f\"AI: {conversation.chat('아까 내가 처음에 뭘 물어봤지?')}\")"
   ]
  },
  {
   "cell_type": "markdown",
   "metadata": {},
   "source": [
    "## 3. 고급 메모리: mem0 라이브러리"
   ]
  },
  {
   "cell_type": "markdown",
   "metadata": {},
   "source": [
    "### 3.1 mem0란?\n",
    "mem0은 AI 에이전트가 장기간에 걸쳐 일관되고 맥락이 풍부한 대화를 유지할 수 있게 해주는 지능형 메모리 아키텍처다.\n",
    "\n",
    "#### mem0의 주요 특징\n",
    "mem0은 2단계 메모리 파이프라인을 가진다:\n",
    "1.  **추출 단계**: 대화에서 핵심 사실만 포착한다.\n",
    "2.  **업데이트 단계**: 지식 베이스를 지능적으로 관리한다.\n",
    "\n",
    "주요 특징은 다음과 같다:\n",
    "- **선택적 메모리 형성**: 전체 대화가 아닌 중요한 정보만 저장한다.\n",
    "- **지능적 연산**: 메모리를 추가, 업데이트, 삭제할지 자동으로 결정한다.\n",
    "- **효율적인 검색**: 벡터 임베딩으로 관련 메모리를 빠르게 찾는다.\n",
    "- **비용 효율성**: 전체 컨텍스트 방식 대비 토큰 사용량을 90% 절약할 수 있다."
   ]
  },
  {
   "cell_type": "markdown",
   "metadata": {},
   "source": [
    "### 3.2 mem0 기본 사용법\n",
    "\n",
    "mem0은 메모리 저장을 위해 벡터 데이터베이스가 필요하다. Qdrant를 사용하는 예제다."
   ]
  },
  {
   "cell_type": "markdown",
   "metadata": {},
   "source": [
    "#### 기본 메모리 추가 및 검색"
   ]
  },
  {
   "cell_type": "code",
   "execution_count": 8,
   "metadata": {
    "tags": []
   },
   "outputs": [
    {
     "name": "stdout",
     "output_type": "stream",
     "text": [
      "=== 검색된 메모리 ===\n",
      "- 스릴러 영화는 별로 좋아하지 않음\n",
      "- 공상 과학 영화를 정말 좋아함\n"
     ]
    }
   ],
   "source": [
    "from mem0 import Memory\n",
    "\n",
    "# Memory 객체 초기화 (기본 설정)\n",
    "# 기본적으로 메모리는 인메모리(in-memory)로 저장된다.\n",
    "m = Memory()\n",
    "\n",
    "# 대화에서 메모리 추출 및 저장\n",
    "messages = [\n",
    "    {\"role\": \"user\", \"content\": \"오늘 밤 영화를 보려고 하는데, 추천해 줄 만한 게 있나요?\"},\n",
    "    {\"role\": \"assistant\", \"content\": \"스릴러 영화는 어떠세요? 꽤 몰입감이 높을 수 있습니다.\"},\n",
    "    {\"role\": \"user\", \"content\": \"스릴러 영화는 별로 좋아하지 않지만, 공상 과학 영화는 정말 좋아해요.\"},\n",
    "    {\"role\": \"assistant\", \"content\": \"알겠습니다! 앞으로 스릴러 추천은 피하고 공상 과학 영화를 제안해 드릴게요.\"},\n",
    "]\n",
    "\n",
    "# 메모리 추가\n",
    "m.add(\n",
    "    messages, \n",
    "    user_id=\"user_001\", \n",
    "    metadata={\"category\": \"movie_recommendations\"}\n",
    ")\n",
    "\n",
    "# 메모리 검색\n",
    "related_memories = m.search(\n",
    "    query=\"나에 대해 무엇을 알고 있니?\", \n",
    "    user_id=\"user_001\"\n",
    ")\n",
    "\n",
    "print(\"=== 검색된 메모리 ===\")\n",
    "if related_memories and 'results' in related_memories:\n",
    "    for memory in related_memories['results']:\n",
    "        print(f\"- {memory['memory']}\")"
   ]
  },
  {
   "cell_type": "markdown",
   "metadata": {},
   "source": [
    "### 3.3 Qdrant 설정으로 고급 메모리 구성\n",
    "더 강력한 영구 메모리 관리를 위해 Qdrant를 명시적으로 설정한다."
   ]
  },
  {
   "cell_type": "code",
   "execution_count": 9,
   "metadata": {
    "tags": []
   },
   "outputs": [
    {
     "name": "stdout",
     "output_type": "stream",
     "text": [
      "mem0이 Qdrant에 성공적으로 연결되었다.\n"
     ]
    }
   ],
   "source": [
    "from mem0 import Memory\n",
    "\n",
    "# Qdrant 설정\n",
    "config = {\n",
    "    \"vector_store\": {\n",
    "        \"provider\": \"qdrant\",\n",
    "        \"config\": {\n",
    "            \"host\": \"localhost\",\n",
    "            \"port\": 6333\n",
    "        },\n",
    "    },\n",
    "}\n",
    "\n",
    "# 설정을 사용하여 Memory 초기화\n",
    "# Qdrant Docker 컨테이너가 실행 중이어야 한다.\n",
    "try:\n",
    "    memory = Memory.from_config(config)\n",
    "    print(\"mem0이 Qdrant에 성공적으로 연결되었다.\")\n",
    "except Exception as e:\n",
    "    print(f\"mem0 연결 실패: {e}\")\n",
    "    print(\"Qdrant Docker 컨테이너가 실행 중인지 확인해야 한다.\")"
   ]
  },
  {
   "cell_type": "markdown",
   "metadata": {},
   "source": [
    "### 3.4 메모리를 활용한 지능형 챗봇\n",
    "mem0을 사용하여 과거 대화를 기억하는 챗봇을 구현한다."
   ]
  },
  {
   "cell_type": "code",
   "execution_count": 10,
   "metadata": {
    "tags": []
   },
   "outputs": [
    {
     "name": "stdout",
     "output_type": "stream",
     "text": [
      "=== 메모리 기반 챗봇 데모 ===\n",
      "사용자: 내 이름은 알렉스야.\n",
      "AI: 안녕하세요, 알렉스! 만나서 반가워요. 어떻게 도와드릴까요?\n",
      "\n",
      "사용자: 내 이름이 뭐야?\n",
      "AI: 당신의 이름은 알렉스입니다.\n",
      "\n",
      "사용자: 나는 파이썬 프로그래밍을 배우고 싶어.\n",
      "AI: 알렉스, 파이썬 프로그래밍을 배우고 싶으시군요! 좋은 선택입니다. 파이썬은 배우기 쉽고 다양한 분야에서 활용할 수 있는 강력한 언어입니다. 다음과 같은 단계로 시작해 보세요:\n",
      "\n",
      "1. **설치하기**: 먼저, Python 공식 웹사이트(https://www.python.org/downloads/)에서 Python을 다운로드하고 설치하세요.\n",
      "\n",
      "2. **기본 문법 배우기**: 변수, 데이터 타입, 조건문, 반복문, 함수 등을 배워보세요. 온라인 튜토리얼이나 책을 참고할 수 있습니다. 예를 들어, \"Automate the Boring Stuff with Python\"이라는 책이 초보자에게 좋습니다.\n",
      "\n",
      "3. **실습하기**: 코드를 직접 작성해보는 것이 중요합니다. 간단한 프로그램이나 스크립트를 만들어보세요. 이를 통해 당신의 이해도를 높일 수 있습니다.\n",
      "\n",
      "4. **프로젝트**: 실제 프로젝트를 시작해보세요. 관심 있는 분야의 작은 프로젝트를 기획하고 실천하는 것이 많은 도움이 됩니다.\n",
      "\n",
      "5. **커뮤니티 참여**: Stack Overflow, GitHub, 또는 파이썬 관련 포럼에 참여해보세요. 다른 사람과 상호작용하며 배우는 것도 큰 도움이 됩니다.\n",
      "\n",
      "혹시 더 구체적인 질문이나 도움이 필요한 부분이 있다면 말씀해 주세요!\n",
      "\n",
      "사용자: 내가 배우고 싶어하는 게 뭐였지?\n",
      "AI: 당신은 파이썬 프로그래밍을 배우고 싶어합니다.\n"
     ]
    }
   ],
   "source": [
    "from openai import OpenAI\n",
    "from mem0 import Memory\n",
    "\n",
    "# 클라이언트와 메모리 초기화\n",
    "openai_client = OpenAI()\n",
    "\n",
    "try:\n",
    "    memory = Memory.from_config(config)\n",
    "except Exception as e:\n",
    "    print(f\"메모리 초기화 실패: {e}\")\n",
    "    memory = None # 에러 발생 시 None으로 설정\n",
    "\n",
    "def chat_with_memories(message: str, user_id: str = \"demo_user\") -> str:\n",
    "    \"\"\"\n",
    "    메모리를 활용한 대화 함수다.\n",
    "    \"\"\"\n",
    "    if not memory:\n",
    "        return \"메모리 시스템이 초기화되지 않았다.\"\n",
    "\n",
    "    # 1. 관련 메모리를 검색한다\n",
    "    relevant_memories = memory.search(query=message, user_id=user_id, limit=3)\n",
    "    \n",
    "    # 2. 메모리를 텍스트로 변환한다\n",
    "    memories_str = \"\"\n",
    "    if relevant_memories and 'results' in relevant_memories:\n",
    "        memory_texts = [f\"- {entry['memory']}\" for entry in relevant_memories['results'] if isinstance(entry, dict) and 'memory' in entry]\n",
    "        if memory_texts:\n",
    "            memories_str = \"\\n\".join(memory_texts)\n",
    "    \n",
    "    # 3. 메모리를 시스템 프롬프트에 포함하여 AI 응답을 생성한다\n",
    "    system_prompt = f\"\"\"당신은 도움이 되는 AI다. 사용자의 질문과 아래 기억을 바탕으로 답변한다.\n",
    "\n",
    "사용자 기억:\n",
    "{memories_str if memories_str else \"없음\"}\n",
    "\"\"\"\n",
    "    \n",
    "    chat_messages = [\n",
    "        {\"role\": \"system\", \"content\": system_prompt},\n",
    "        {\"role\": \"user\", \"content\": message},\n",
    "    ]\n",
    "    \n",
    "    response = openai_client.chat.completions.create(\n",
    "        model=MODEL, \n",
    "        messages=chat_messages\n",
    "    )\n",
    "    \n",
    "    assistant_response = response.choices[0].message.content\n",
    "    \n",
    "    # 4. 대화에서 새로운 메모리를 생성한다\n",
    "    conversation_for_memory = [\n",
    "        {\"role\": \"user\", \"content\": message},\n",
    "        {\"role\": \"assistant\", \"content\": assistant_response}\n",
    "    ]\n",
    "    \n",
    "    memory.add(conversation_for_memory, user_id=user_id)\n",
    "    \n",
    "    return assistant_response\n",
    "\n",
    "# 사용 예제\n",
    "print(\"=== 메모리 기반 챗봇 데모 ===\")\n",
    "print(f\"사용자: 내 이름은 알렉스야.\")\n",
    "print(f\"AI: {chat_with_memories('내 이름은 알렉스야.')}\\n\")\n",
    "\n",
    "print(f\"사용자: 내 이름이 뭐야?\")\n",
    "print(f\"AI: {chat_with_memories('내 이름이 뭐야?')}\\n\")\n",
    "\n",
    "print(f\"사용자: 나는 파이썬 프로그래밍을 배우고 싶어.\")\n",
    "print(f\"AI: {chat_with_memories('나는 파이썬 프로그래밍을 배우고 싶어.')}\\n\")\n",
    "\n",
    "print(f\"사용자: 내가 배우고 싶어하는 게 뭐였지?\")\n",
    "print(f\"AI: {chat_with_memories('내가 배우고 싶어하는 게 뭐였지?')}\")"
   ]
  },
  {
   "cell_type": "markdown",
   "metadata": {},
   "source": [
    "## 4. 실전 예제: 고객 지원 에이전트\n",
    "mem0을 활용한 고객 지원 시스템 구현 예제다."
   ]
  },
  {
   "cell_type": "code",
   "execution_count": 11,
   "metadata": {
    "tags": []
   },
   "outputs": [
    {
     "name": "stdout",
     "output_type": "stream",
     "text": [
      "=== 고객 지원 에이전트 데모 ===\n",
      "\n",
      "고객: 최근 주문에 도움이 필요합니다. 아직 도착하지 않았어요.\n",
      "에이전트: 주문이 아직 도착하지 않으셨군요. 불편을 드려 죄송합니다. 주문 번호를 알려주시면, 배송 상태를 확인하고 도와드릴 수 있습니다. 한편, 예상 배송일이나 문의하신 주문과 관련된 다른 정보도 제공해 주시면 도움이 될 것 같습니다.\n",
      "\n",
      "고객: 어제 문의한 주문 건은 어떻게 되었나요?\n",
      "에이전트: 고객님, 어제 문의하신 주문 건에 대해 확인해 보겠습니다. 주문이 아직 도착하지 않았다고 하셨는데, 주문 번호를 알려주시면 더 자세히 확인해드리겠습니다. 감사합니다!\n",
      "\n",
      "=== 저장된 고객 메모리 ===\n",
      "- 최근 주문에 도움이 필요함\n",
      "- 어제 문의한 주문 건에 대한 질문\n",
      "- 주문이 아직 도착하지 않음\n"
     ]
    }
   ],
   "source": [
    "from openai import OpenAI\n",
    "from mem0 import Memory\n",
    "\n",
    "class CustomerSupportAgent:\n",
    "    \"\"\"고객 지원을 위한 메모리 기반 AI 에이전트다.\"\"\"\n",
    "    \n",
    "    def __init__(self):\n",
    "        \"\"\"\n",
    "        메모리 구성과 OpenAI 클라이언트로 에이전트를 초기화한다.\n",
    "        \"\"\"\n",
    "        config = {\n",
    "            \"vector_store\": {\n",
    "                \"provider\": \"qdrant\",\n",
    "                \"config\": {\"host\": \"localhost\", \"port\": 6333},\n",
    "            },\n",
    "        }\n",
    "        try:\n",
    "            self.memory = Memory.from_config(config)\n",
    "        except Exception as e:\n",
    "            print(f\"메모리 초기화 실패: {e}\")\n",
    "            self.memory = None\n",
    "            \n",
    "        self.client = OpenAI()\n",
    "        self.app_id = \"customer-support\"\n",
    "    \n",
    "    def handle_query(self, query: str, customer_id: str) -> str:\n",
    "        \"\"\"\n",
    "        고객 문의를 처리하고 관련 정보를 메모리에 저장한다.\n",
    "        \"\"\"\n",
    "        if not self.memory:\n",
    "            return \"메모리 시스템이 초기화되지 않았다.\"\n",
    "\n",
    "        # 1. 고객의 과거 기록 검색\n",
    "        past_memories = self.memory.search(query=query, user_id=customer_id, limit=5)\n",
    "        \n",
    "        # 2. 과거 기록을 텍스트로 변환\n",
    "        context = \"\"\n",
    "        if past_memories and 'results' in past_memories:\n",
    "            memory_items = [f\"- {m['memory']}\" for m in past_memories['results'] if isinstance(m, dict) and 'memory' in m]\n",
    "            if memory_items:\n",
    "                context = \"고객 과거 기록:\\n\" + \"\\n\".join(memory_items)\n",
    "        \n",
    "        # 3. 시스템 프롬프트 구성\n",
    "        system_prompt = f\"\"\"당신은 전문적이고 친절한 고객 지원 AI 에이전트다.\n",
    "고객의 문의를 정확하게 이해하고 도움이 되는 답변을 제공한다.\n",
    "\n",
    "{context}\n",
    "\"\"\"\n",
    "        \n",
    "        # 4. AI 응답 생성\n",
    "        response = self.client.chat.completions.create(\n",
    "            model=MODEL,\n",
    "            messages=[\n",
    "                {\"role\": \"system\", \"content\": system_prompt},\n",
    "                {\"role\": \"user\", \"content\": query},\n",
    "            ],\n",
    "        )\n",
    "        \n",
    "        answer = response.choices[0].message.content\n",
    "        \n",
    "        # 5. 문의 내용을 메모리에 저장\n",
    "        self.memory.add(\n",
    "            query, \n",
    "            user_id=customer_id, \n",
    "            metadata={\"app_id\": self.app_id, \"type\": \"customer_query\"}\n",
    "        )\n",
    "        \n",
    "        return answer\n",
    "    \n",
    "    def get_customer_history(self, customer_id: str) -> list:\n",
    "        \"\"\"\n",
    "        특정 고객의 모든 메모리를 검색한다.\n",
    "        \"\"\"\n",
    "        if not self.memory:\n",
    "            return []\n",
    "            \n",
    "        all_memories = self.memory.get_all(user_id=customer_id)\n",
    "        \n",
    "        if all_memories and 'results' in all_memories:\n",
    "            return all_memories['results']\n",
    "        return []\n",
    "\n",
    "# 사용 예제\n",
    "print(\"=== 고객 지원 에이전트 데모 ===\\n\")\n",
    "\n",
    "# 에이전트 초기화\n",
    "support_agent = CustomerSupportAgent()\n",
    "customer_id = \"customer_12345\"\n",
    "\n",
    "# 첫 번째 문의\n",
    "print(\"고객: 최근 주문에 도움이 필요합니다. 아직 도착하지 않았어요.\")\n",
    "response1 = support_agent.handle_query(\n",
    "    \"최근 주문에 도움이 필요합니다. 아직 도착하지 않았어요.\", \n",
    "    customer_id=customer_id\n",
    ")\n",
    "print(f\"에이전트: {response1}\\n\")\n",
    "\n",
    "# 두 번째 문의 (다음 날)\n",
    "print(\"고객: 어제 문의한 주문 건은 어떻게 되었나요?\")\n",
    "response2 = support_agent.handle_query(\n",
    "    \"어제 문의한 주문 건은 어떻게 되었나요?\", \n",
    "    customer_id=customer_id\n",
    ")\n",
    "print(f\"에이전트: {response2}\\n\")\n",
    "\n",
    "# 고객 기록 확인\n",
    "print(\"=== 저장된 고객 메모리 ===\")\n",
    "history = support_agent.get_customer_history(customer_id)\n",
    "for item in history:\n",
    "    if isinstance(item, dict) and 'memory' in item:\n",
    "        print(f\"- {item['memory']}\")"
   ]
  },
  {
   "cell_type": "markdown",
   "metadata": {},
   "source": [
    "## 5. 메모리 관리 모범 사례\n",
    "\n",
    "### 5.1 기본 메모리 vs mem0 선택 가이드\n",
    "\n",
    "| 상황 | 권장 방식 | 이유 |\n",
    "|---|---|---|\n",
    "| 짧은 대화 (5턴 이하) | 기본 메모리 | 구현이 간단하고 충분하다. |\n",
    "| 장기 대화 | mem0 | 토큰 절약, 선택적 정보 저장이 가능하다. |\n",
    "| 다중 세션 기억 필요 | mem0 | 영구 저장소가 필요하다. |\n",
    "| 실시간 응답 중요 | 기본 메모리 | 추가 검색 단계가 없어 빠르다. |\n",
    "| 사용자별 개인화 | mem0 | 사용자 ID 기반으로 관리가 용이하다. |"
   ]
  },
  {
   "cell_type": "markdown",
   "metadata": {},
   "source": [
    "### 5.2 메모리 검색 최적화"
   ]
  },
  {
   "cell_type": "code",
   "execution_count": 12,
   "metadata": {
    "tags": []
   },
   "outputs": [
    {
     "name": "stdout",
     "output_type": "stream",
     "text": [
      "제한된 검색 결과: {'results': []}\n",
      "필터링된 검색 결과: {'results': []}\n"
     ]
    }
   ],
   "source": [
    "if memory: # 메모리가 초기화되었는지 확인한다.\n",
    "    # 검색 결과 제한으로 성능 향상\n",
    "    memories_limited = memory.search(\n",
    "        query=\"사용자 선호도는?\",\n",
    "        user_id=\"user_123\",\n",
    "        limit=3  # 상위 3개만 가져온다\n",
    "    )\n",
    "    print(f\"제한된 검색 결과: {memories_limited}\")\n",
    "    \n",
    "    # 메타데이터로 필터링\n",
    "    # 아래 코드를 실행하려면 먼저 metadata={'category': 'orders'}로 데이터가 저장되어 있어야 한다.\n",
    "    memories_filtered = memory.search(\n",
    "        query=\"주문 관련 문의\",\n",
    "        user_id=\"customer_456\",\n",
    "        filters={\"category\": \"orders\"}  # 특정 카테고리만 검색한다\n",
    "    )\n",
    "    print(f\"필터링된 검색 결과: {memories_filtered}\")"
   ]
  },
  {
   "cell_type": "markdown",
   "metadata": {},
   "source": [
    "### 5.3 메모리 정리 및 관리"
   ]
  },
  {
   "cell_type": "code",
   "execution_count": 13,
   "metadata": {
    "tags": []
   },
   "outputs": [
    {
     "name": "stdout",
     "output_type": "stream",
     "text": [
      "메모리 삭제 기능은 주석 처리되어 있다. 필요시 주석을 해제하고 사용한다.\n"
     ]
    }
   ],
   "source": [
    "if memory:\n",
    "    # 특정 메모리 삭제 (실제 memory_id로 대체해야 한다)\n",
    "    # memory.delete(memory_id=\"mem_abc123\")\n",
    "\n",
    "    # 사용자의 모든 메모리 삭제\n",
    "    # memory.delete_all(user_id=\"user_789\")\n",
    "\n",
    "    print(\"메모리 삭제 기능은 주석 처리되어 있다. 필요시 주석을 해제하고 사용한다.\")\n",
    "\n",
    "# 오래된 메모리 주기적으로 정리 (구현 예시)\n",
    "def cleanup_old_memories(memory_instance, user_id, days=30):\n",
    "    \"\"\"지정된 일수보다 오래된 메모리를 삭제한다.\"\"\"\n",
    "    from datetime import datetime, timedelta\n",
    "    \n",
    "    try:\n",
    "        all_memories = memory_instance.get_all(user_id=user_id)\n",
    "        cutoff_date = datetime.now() - timedelta(days=days)\n",
    "        \n",
    "        for mem in all_memories.get('results', []):\n",
    "            created_at_str = mem.get('created_at')\n",
    "            if created_at_str:\n",
    "                created_at = datetime.fromisoformat(created_at_str.replace('Z', '+00:00'))\n",
    "                if created_at.replace(tzinfo=None) < cutoff_date:\n",
    "                    print(f\"오래된 메모리 삭제: {mem['id']}\")\n",
    "                    memory_instance.delete(mem['id'])\n",
    "    except Exception as e:\n",
    "        print(f\"메모리 정리 중 오류 발생: {e}\")\n"
   ]
  },
  {
   "cell_type": "markdown",
   "metadata": {},
   "source": [
    "### 5.4 에러 핸들링"
   ]
  },
  {
   "cell_type": "code",
   "execution_count": 14,
   "metadata": {
    "tags": []
   },
   "outputs": [],
   "source": [
    "def safe_memory_search(memory_instance, query, user_id):\n",
    "    \"\"\"안전한 메모리 검색 (에러 핸들링 포함) 함수다.\"\"\"\n",
    "    try:\n",
    "        results = memory_instance.search(query=query, user_id=user_id, limit=5)\n",
    "        \n",
    "        if results and 'results' in results:\n",
    "            return results['results']\n",
    "        else:\n",
    "            print(\"검색 결과가 없다.\")\n",
    "            return []\n",
    "            \n",
    "    except Exception as e:\n",
    "        print(f\"메모리 검색 중 오류 발생: {e}\")\n",
    "        return []\n",
    "\n",
    "def safe_memory_add(memory_instance, messages, user_id):\n",
    "    \"\"\"안전한 메모리 추가 (에러 핸들링 포함) 함수다.\"\"\"\n",
    "    try:\n",
    "        memory_instance.add(messages, user_id=user_id)\n",
    "        print(\"메모리가 성공적으로 저장되었다.\")\n",
    "        \n",
    "    except Exception as e:\n",
    "        print(f\"메모리 저장 중 오류 발생: {e}\")"
   ]
  },
  {
   "cell_type": "markdown",
   "metadata": {},
   "source": [
    "## 7.3 토큰 한계 초과 해결\n",
    "- **문제**: 대화 기록이 너무 길어져 컨텍스트 창을 초과한다.\n",
    "- **해결 방법**: 메시지 목록의 일부(예: 최근 10개)만 유지하도록 잘라내는 로직을 추가한다."
   ]
  },
  {
   "cell_type": "code",
   "execution_count": 15,
   "metadata": {
    "tags": []
   },
   "outputs": [
    {
     "name": "stdout",
     "output_type": "stream",
     "text": [
      "자르기 전 메시지 개수: 30\n",
      "자른 후 메시지 개수: 10\n"
     ]
    }
   ],
   "source": [
    "def truncate_messages(messages, max_messages=10):\n",
    "    \"\"\"메시지 개수를 제한한다 (시스템 메시지는 유지).\"\"\"\n",
    "    system_msgs = [m for m in messages if m[\"role\"] == \"system\"]\n",
    "    other_msgs = [m for m in messages if m[\"role\"] != \"system\"]\n",
    "    \n",
    "    # 최근 메시지만 유지한다\n",
    "    recent_msgs = other_msgs[-max_messages:]\n",
    "    \n",
    "    return system_msgs + recent_msgs\n",
    "\n",
    "# 사용 예시\n",
    "long_conversation = SimpleConversation()\n",
    "for i in range(15):\n",
    "    long_conversation.add_user_message(f\"질문 {i+1}\")\n",
    "    long_conversation.add_assistant_message(f\"답변 {i+1}\")\n",
    "\n",
    "print(f\"자르기 전 메시지 개수: {len(long_conversation.messages)}\")\n",
    "truncated = truncate_messages(long_conversation.messages, max_messages=10)\n",
    "print(f\"자른 후 메시지 개수: {len(truncated)}\")"
   ]
  }
 ],
 "metadata": {
  "kernelspec": {
   "display_name": "lecture",
   "language": "python",
   "name": "lecture"
  },
  "language_info": {
   "codemirror_mode": {
    "name": "ipython",
    "version": 3
   },
   "file_extension": ".py",
   "mimetype": "text/x-python",
   "name": "python",
   "nbconvert_exporter": "python",
   "pygments_lexer": "ipython3",
   "version": "3.11.7"
  }
 },
 "nbformat": 4,
 "nbformat_minor": 4
}
