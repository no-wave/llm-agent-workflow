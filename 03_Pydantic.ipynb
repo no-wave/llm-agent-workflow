{
 "cells": [
  {
   "cell_type": "markdown",
   "metadata": {},
   "source": [
    "# Agent: Pydantic\n",
    "\n",
    "간단하고 실용적인 예제를 통해 OpenAI API와 Pydantic을 함께 사용하는 방법을 배운다."
   ]
  },
  {
   "cell_type": "code",
   "execution_count": 2,
   "metadata": {
    "tags": []
   },
   "outputs": [],
   "source": [
    "from dotenv import load_dotenv\n",
    "import os\n",
    "\n",
    "# .env 파일에서 환경 변수를 로드한다\n",
    "load_dotenv()\n",
    "\n",
    "# API 키 확인 (선택사항)\n",
    "api_key = os.getenv('OPENAI_API_KEY')"
   ]
  },
  {
   "cell_type": "code",
   "execution_count": 3,
   "metadata": {},
   "outputs": [],
   "source": [
    "from openai import OpenAI\n",
    "from pydantic import BaseModel, Field\n",
    "from typing import List\n",
    "import json\n",
    "\n",
    "MODEL = \"gpt-4o-mini\"\n",
    "\n",
    "client = OpenAI()"
   ]
  },
  {
   "cell_type": "markdown",
   "metadata": {},
   "source": [
    "## 예제 1: Pydantic 기본 - 데이터 검증\n",
    "\n",
    "Pydantic은 데이터 유효성 검사 및 설정 관리를 위한 라이브러리입니다. \n",
    "클래스를 정의하여 데이터의 형태(스키마)를 명확하게 지정하고, 입력된 데이터가 해당 형태를 따르는지 자동으로 검증해줍니다."
   ]
  },
  {
   "cell_type": "code",
   "execution_count": 4,
   "metadata": {},
   "outputs": [
    {
     "name": "stdout",
     "output_type": "stream",
     "text": [
      "예제 1: Pydantic 기본\n",
      "{'name': '김철수', 'age': 25, 'email': 'kim@example.com'}\n",
      "{\"name\":\"김철수\",\"age\":25,\"email\":\"kim@example.com\"}\n"
     ]
    }
   ],
   "source": [
    "class User(BaseModel):\n",
    "    \"\"\"사용자 정보를 정의하는 Pydantic 모델입니다.\"\"\"\n",
    "    name: str\n",
    "    age: int\n",
    "    email: str\n",
    "\n",
    "# 사용 예시\n",
    "# 정의된 타입(str, int)에 맞지 않는 데이터가 들어오면 오류가 발생합니다.\n",
    "user = User(name=\"김철수\", age=25, email=\"kim@example.com\")\n",
    "\n",
    "print(\"예제 1: Pydantic 기본\")\n",
    "# model_dump()는 객체를 딕셔너리로 변환합니다.\n",
    "print(user.model_dump())\n",
    "\n",
    "# model_dump_json()은 객체를 JSON 문자열로 변환합니다.\n",
    "print(user.model_dump_json())"
   ]
  },
  {
   "cell_type": "markdown",
   "metadata": {},
   "source": [
    "## 예제 2: OpenAI Function Calling에 Pydantic 사용\n",
    "\n",
    "OpenAI의 Function Calling 기능을 사용할 때, 함수의 인자(parameter)를 JSON 스키마 형태로 정의해야 합니다.\n",
    "Pydantic 모델의 `.model_json_schema()` 메서드를 사용하면 이 스키마를 매우 간편하게 생성할 수 있습니다."
   ]
  },
  {
   "cell_type": "code",
   "execution_count": 5,
   "metadata": {},
   "outputs": [
    {
     "name": "stdout",
     "output_type": "stream",
     "text": [
      "예제 2: Function Tool 정의\n",
      "{\n",
      "  \"type\": \"function\",\n",
      "  \"function\": {\n",
      "    \"name\": \"get_weather\",\n",
      "    \"description\": \"특정 도시의 현재 날씨 정보를 가져옵니다\",\n",
      "    \"parameters\": {\n",
      "      \"description\": \"날씨 조회 함수의 입력을 정의하는 Pydantic 모델입니다.\",\n",
      "      \"properties\": {\n",
      "        \"city\": {\n",
      "          \"description\": \"도시 이름\",\n",
      "          \"title\": \"City\",\n",
      "          \"type\": \"string\"\n",
      "        },\n",
      "        \"unit\": {\n",
      "          \"default\": \"celsius\",\n",
      "          \"description\": \"온도 단위 (celsius, fahrenheit)\",\n",
      "          \"title\": \"Unit\",\n",
      "          \"type\": \"string\"\n",
      "        }\n",
      "      },\n",
      "      \"required\": [\n",
      "        \"city\"\n",
      "      ],\n",
      "      \"title\": \"WeatherInput\",\n",
      "      \"type\": \"object\"\n",
      "    }\n",
      "  }\n",
      "}\n"
     ]
    }
   ],
   "source": [
    "class WeatherInput(BaseModel):\n",
    "    \"\"\"날씨 조회 함수의 입력을 정의하는 Pydantic 모델입니다.\"\"\"\n",
    "    city: str = Field(description=\"도시 이름\")\n",
    "    unit: str = Field(default=\"celsius\", description=\"온도 단위 (celsius, fahrenheit)\")\n",
    "\n",
    "def get_weather(city: str, unit: str = \"celsius\"):\n",
    "    \"\"\"실제 날씨 정보를 가져오는 함수(가상)입니다.\"\"\"\n",
    "    return {\n",
    "        \"city\": city,\n",
    "        \"temperature\": 22,\n",
    "        \"unit\": unit,\n",
    "        \"condition\": \"맑음\"\n",
    "    }\n",
    "\n",
    "# Pydantic 모델을 OpenAI Function Calling 스키마로 변환합니다.\n",
    "weather_tool = {\n",
    "    \"type\": \"function\",\n",
    "    \"function\": {\n",
    "        \"name\": \"get_weather\",\n",
    "        \"description\": \"특정 도시의 현재 날씨 정보를 가져옵니다\",\n",
    "        \"parameters\": WeatherInput.model_json_schema() # 이 부분이 핵심입니다.\n",
    "    }\n",
    "}\n",
    "\n",
    "print(\"예제 2: Function Tool 정의\")\n",
    "print(json.dumps(weather_tool, indent=2, ensure_ascii=False))"
   ]
  },
  {
   "cell_type": "markdown",
   "metadata": {},
   "source": [
    "## 예제 3: OpenAI API로 Function Calling 실행\n",
    "\n",
    "앞서 정의한 `weather_tool`을 사용하여 실제로 Function Calling을 실행하는 과정입니다.\n",
    "사용자의 질문을 보고 AI가 `get_weather` 함수를 호출해야겠다고 판단하면, 필요한 인자(`city`)와 함께 함수 호출을 요청합니다.\n",
    "그러면 우리는 그 요청에 따라 실제 함수를 실행하고, 결과를 다시 AI에게 알려주어 최종 답변을 생성하게 합니다."
   ]
  },
  {
   "cell_type": "code",
   "execution_count": 7,
   "metadata": {},
   "outputs": [
    {
     "name": "stdout",
     "output_type": "stream",
     "text": [
      "예제 3: Function Calling 실행\n",
      "🔧 AI가 선택한 함수: get_weather\n",
      "   인자: {'city': '서울'}\n",
      "   결과: {'city': '서울', 'temperature': 22, 'unit': 'celsius', 'condition': '맑음'}\n",
      "\n",
      " AI 최종 응답: 현재 서울의 날씨는 맑고, 기온은 22도입니다. 변동이 있을 수 있으니 참고하세요!\n"
     ]
    }
   ],
   "source": [
    "def simple_function_call(user_query: str):\n",
    "    \"\"\"간단한 Function Calling을 시연하는 함수입니다.\"\"\"\n",
    "    \n",
    "    messages = [{\"role\": \"user\", \"content\": user_query}]\n",
    "    \n",
    "    # 1단계: AI에게 사용자 메시지와 함께 사용 가능한 도구(함수) 목록을 전달합니다.\n",
    "    response = client.chat.completions.create(\n",
    "        model=\"gpt-4o-mini\",\n",
    "        messages=messages,\n",
    "        tools=[weather_tool]\n",
    "    )\n",
    "    \n",
    "    message = response.choices[0].message\n",
    "    \n",
    "    # 2단계: AI가 함수 호출을 결정했는지 확인합니다.\n",
    "    if message.tool_calls:\n",
    "        tool_call = message.tool_calls[0]\n",
    "        function_name = tool_call.function.name\n",
    "        arguments = json.loads(tool_call.function.arguments)\n",
    "        \n",
    "        print(f\"🔧 AI가 선택한 함수: {function_name}\")\n",
    "        print(f\"   인자: {arguments}\")\n",
    "        \n",
    "        # 실제 함수를 실행합니다.\n",
    "        result = get_weather(**arguments)\n",
    "        print(f\"   결과: {result}\")\n",
    "        \n",
    "        # 3단계: 함수 실행 결과를 AI에게 다시 전달하여 최종 답변을 요청합니다.\n",
    "        messages.append(message) # AI의 함수 호출 요청 메시지 추가\n",
    "        messages.append({        # 실제 함수 실행 결과 메시지 추가\n",
    "            \"role\": \"tool\",\n",
    "            \"tool_call_id\": tool_call.id,\n",
    "            \"content\": json.dumps(result, ensure_ascii=False)\n",
    "        })\n",
    "        \n",
    "        # 4단계: 최종 응답을 받습니다.\n",
    "        final_response = client.chat.completions.create(\n",
    "            model=MODEL,\n",
    "            messages=messages\n",
    "        )\n",
    "        \n",
    "        return final_response.choices[0].message.content\n",
    "    else:\n",
    "        # AI가 함수를 호출하지 않고 바로 답변한 경우입니다.\n",
    "        return message.content\n",
    "\n",
    "print(\"예제 3: Function Calling 실행\")\n",
    "result = simple_function_call(\"서울 날씨 알려줘\")\n",
    "print(f\"\\n AI 최종 응답: {result}\")"
   ]
  },
  {
   "cell_type": "markdown",
   "metadata": {},
   "source": [
    "## 예제 4: Structured Output - 원하는 형식으로 응답 받기\n",
    "\n",
    "Pydantic 모델을 `response_format`으로 지정하여, AI의 답변을 특정 JSON 구조로 강제할 수 있습니다. \n",
    "이를 통해 비정형적인 텍스트가 아닌, 예측 가능하고 바로 파싱하여 사용할 수 있는 구조화된 데이터를 얻을 수 있습니다.\n",
    "참고: 이 기능은 `client.beta.chat.completions.parse`와 같이 `beta` 라이브러리를 사용합니다."
   ]
  },
  {
   "cell_type": "code",
   "execution_count": 8,
   "metadata": {},
   "outputs": [
    {
     "name": "stdout",
     "output_type": "stream",
     "text": [
      "예제 4: Structured Output\n",
      "제목: 가디언즈 오브 갤럭시\n",
      "장르: 액션, SF\n",
      "연도: 2014\n",
      "이유: 우주를 배경으로 한 화려한 액션과 유머가 가득한 영화로, 다양한 캐릭터들이 펼치는 재미있는 스토리가 매력적입니다.\n"
     ]
    }
   ],
   "source": [
    "class MovieRecommendation(BaseModel):\n",
    "    \"\"\"영화 추천 정보의 구조를 정의합니다.\"\"\"\n",
    "    title: str = Field(description=\"영화 제목\")\n",
    "    genre: str = Field(description=\"장르\")\n",
    "    year: int = Field(description=\"개봉 연도\")\n",
    "    reason: str = Field(description=\"이 영화를 추천하는 이유\")\n",
    "\n",
    "def get_movie_recommendation(user_preference: str):\n",
    "    \"\"\"Structured Output을 사용하여 영화를 추천받는 함수입니다.\"\"\"\n",
    "    \n",
    "    response = client.beta.chat.completions.parse(\n",
    "        model=MODEL,\n",
    "        messages=[\n",
    "            {\"role\": \"user\", \"content\": f\"다음 취향에 맞는 영화 추천: {user_preference}\"}\n",
    "        ],\n",
    "        response_format=MovieRecommendation  # AI가 이 Pydantic 모델 형식에 맞춰 응답합니다.\n",
    "    )\n",
    "    \n",
    "    # .parse() 메서드는 응답을 자동으로 Pydantic 객체로 변환해줍니다.\n",
    "    return response.choices[0].message.parsed\n",
    "\n",
    "print(\"예제 4: Structured Output\")\n",
    "movie = get_movie_recommendation(\"우주를 배경으로 한 화려한 액션 SF 영화를 좋아해\")\n",
    "\n",
    "print(f\"제목: {movie.title}\")\n",
    "print(f\"장르: {movie.genre}\")\n",
    "print(f\"연도: {movie.year}\")\n",
    "print(f\"이유: {movie.reason}\")"
   ]
  },
  {
   "cell_type": "markdown",
   "metadata": {},
   "source": [
    "## 예제 5: 간단한 Agent - 여러 도구를 자동으로 사용\n",
    "\n",
    "AI가 여러 도구(함수) 중에서 상황에 맞는 것을 스스로 선택하고, 필요한 경우 여러 번에 걸쳐 함수를 호출하도록 만들 수 있습니다.\n",
    "사용자의 복합적인 요청(\"서울 날씨 알려주고, 15 곱하기 7도 계산해줘\")을 해결하기 위해, AI는 `get_weather`와 `calculate` 함수를 순차적으로 호출합니다."
   ]
  },
  {
   "cell_type": "code",
   "execution_count": 10,
   "metadata": {},
   "outputs": [
    {
     "name": "stdout",
     "output_type": "stream",
     "text": [
      "예제 5: 간단한 Agent\n",
      "\n",
      "💬 질문: 서울 날씨 알려주고, 15 곱하기 7도 계산해줘\n",
      "\n",
      "[Agent Loop 1] AI에게 요청...\n",
      "🔧 AI가 2개의 함수 호출을 요청했습니다.\n",
      "   - 실행할 함수: get_weather({'city': '서울'})\n",
      "   - 실행할 함수: calculate({'expression': '15 * 7'})\n",
      "\n",
      "[Agent Loop 2] AI에게 요청...\n",
      "AI가 최종 답변을 생성했습니다.\n",
      "\n",
      "최종 답변: 서울의 현재 날씨는 22도 섭씨이며, 날씨 상태는 흐림입니다. \n",
      "\n",
      "또한, 15 곱하기 7의 계산 결과는 105입니다.\n"
     ]
    }
   ],
   "source": [
    "class CalculatorInput(BaseModel):\n",
    "    \"\"\"계산기 함수의 입력을 정의합니다.\"\"\"\n",
    "    expression: str = Field(description=\"계산할 수식 (예: '10 + 20 * 3')\")\n",
    "\n",
    "def calculate(expression: str):\n",
    "    \"\"\"주어진 수식을 계산하여 결과를 반환합니다.\"\"\"\n",
    "    try:\n",
    "        # 주의: 실제 프로덕션 환경에서는 eval() 사용에 보안상 주의가 필요합니다.\n",
    "        result = eval(expression)\n",
    "        return {\"result\": result}\n",
    "    except Exception as e:\n",
    "        return {\"error\": f\"계산 오류: {str(e)}\"}\n",
    "\n",
    "# AI에게 제공할 도구 목록을 정의합니다. (날씨, 계산기)\n",
    "tools = [\n",
    "    {\n",
    "        \"type\": \"function\",\n",
    "        \"function\": {\n",
    "            \"name\": \"get_weather\",\n",
    "            \"description\": \"특정 도시의 현재 날씨를 조회합니다\",\n",
    "            \"parameters\": WeatherInput.model_json_schema()\n",
    "        }\n",
    "    },\n",
    "    {\n",
    "        \"type\": \"function\",\n",
    "        \"function\": {\n",
    "            \"name\": \"calculate\",\n",
    "            \"description\": \"주어진 수식을 계산합니다\",\n",
    "            \"parameters\": CalculatorInput.model_json_schema()\n",
    "        }\n",
    "    }\n",
    "]\n",
    "\n",
    "# 함수 이름과 실제 함수 객체를 매핑합니다.\n",
    "functions = {\n",
    "    \"get_weather\": get_weather,\n",
    "    \"calculate\": calculate\n",
    "}\n",
    "\n",
    "def simple_agent(user_query: str):\n",
    "    \"\"\"간단한 Agent 로직을 실행합니다.\"\"\"\n",
    "    messages = [{\"role\": \"user\", \"content\": user_query}]\n",
    "    \n",
    "    # AI가 여러 도구를 연쇄적으로 호출할 수 있도록 반복문을 사용합니다.\n",
    "    for i in range(3):  # 최대 3번의 도구 사용을 허용합니다.\n",
    "        print(f\"\\n[Agent Loop {i+1}] AI에게 요청...\")\n",
    "        response = client.chat.completions.create(\n",
    "            model=MODEL,\n",
    "            messages=messages,\n",
    "            tools=tools\n",
    "        )\n",
    "        \n",
    "        message = response.choices[0].message\n",
    "        messages.append(message) # 대화 기록에 AI의 응답을 추가합니다.\n",
    "        \n",
    "        # 만약 AI가 함수를 호출하지 않았다면, 답변을 반환하고 종료합니다.\n",
    "        if not message.tool_calls:\n",
    "            print(\"AI가 최종 답변을 생성했습니다.\")\n",
    "            return message.content\n",
    "        \n",
    "        # AI가 요청한 모든 함수를 실행합니다.\n",
    "        print(f\"🔧 AI가 {len(message.tool_calls)}개의 함수 호출을 요청했습니다.\")\n",
    "        for tool_call in message.tool_calls:\n",
    "            func_name = tool_call.function.name\n",
    "            args = json.loads(tool_call.function.arguments)\n",
    "            \n",
    "            print(f\"   - 실행할 함수: {func_name}({args})\")\n",
    "            \n",
    "            # 실제 함수를 실행합니다.\n",
    "            result = functions[func_name](**args)\n",
    "            \n",
    "            # 함수 실행 결과를 대화 기록에 추가합니다.\n",
    "            messages.append({\n",
    "                \"role\": \"tool\",\n",
    "                \"tool_call_id\": tool_call.id,\n",
    "                \"content\": json.dumps(result, ensure_ascii=False)\n",
    "            })\n",
    "            \n",
    "    print(\"최대 반복 횟수에 도달했습니다.\")\n",
    "    return \"작업을 완료했지만 최종 답변을 생성하지 못했습니다.\"\n",
    "\n",
    "print(\"예제 5: 간단한 Agent\")\n",
    "query = \"서울 날씨 알려주고, 15 곱하기 7도 계산해줘\"\n",
    "print(f\"\\n 질문: {query}\")\n",
    "response = simple_agent(query)\n",
    "print(f\"\\n최종 답변: {response}\")"
   ]
  },
  {
   "cell_type": "markdown",
   "metadata": {},
   "source": [
    "## 예제 6: 리스트 출력 - 여러 항목 반환\n",
    "\n",
    "Structured Output 기능을 응용하여, 단일 객체가 아닌 여러 객체의 리스트를 반환하도록 요청할 수 있습니다.\n",
    "예를 들어, 프로젝트에 대한 설명을 주면 여러 개의 '할 일(Task)' 객체로 구성된 리스트를 생성하도록 할 수 있습니다."
   ]
  },
  {
   "cell_type": "code",
   "execution_count": 11,
   "metadata": {},
   "outputs": [
    {
     "name": "stdout",
     "output_type": "stream",
     "text": [
      "예제 6: 리스트 형식으로 응답받기\n",
      "- [우선순위: high] 프로젝트 계획 수립\n",
      "- [우선순위: high] 요구 사항 분석 회의 진행\n",
      "- [우선순위: medium] 웹사이트 디자인 컨셉 정리\n",
      "- [우선순위: high] 프로젝트 일정 및 마일스톤 설정\n",
      "- [우선순위: high] 개발팀 구성 및 역할 분담\n",
      "- [우선순위: medium] 필요한 기술 스택 선정\n",
      "- [우선순위: high] 서버 및 도메인 준비\n",
      "- [우선순위: medium] 프로토타입 제작 및 초기 사용자 피드백 수집\n",
      "- [우선순위: high] 개발 환경 설정 및 개발 시작\n",
      "- [우선순위: medium] QA 및 버그 수정 계획 세우기\n",
      "- [우선순위: medium] 런칭 일정 및 마케팅 전략 수립\n",
      "- [우선순위: high] 최종 점검 및 웹사이트 런칭\n"
     ]
    }
   ],
   "source": [
    "class Task(BaseModel):\n",
    "    \"\"\"개별 할 일 항목을 정의합니다.\"\"\"\n",
    "    title: str = Field(description=\"할 일의 제목\")\n",
    "    priority: str = Field(description=\"중요도 (high, medium, low 중 하나)\")\n",
    "\n",
    "class TaskList(BaseModel):\n",
    "    \"\"\"Task 객체들의 리스트를 정의합니다.\"\"\"\n",
    "    tasks: List[Task]\n",
    "\n",
    "def get_task_list(description: str):\n",
    "    \"\"\"주어진 설명으로부터 할 일 목록을 생성합니다.\"\"\"\n",
    "    response = client.beta.chat.completions.parse(\n",
    "        model=MODEL,\n",
    "        messages=[\n",
    "            {\"role\": \"user\", \"content\": f\"다음 상황에 대한 할 일 목록을 구체적으로 작성해줘: {description}\"}\n",
    "        ],\n",
    "        response_format=TaskList # 응답 형식으로 TaskList를 지정합니다.\n",
    "    )\n",
    "    \n",
    "    return response.choices[0].message.parsed\n",
    "\n",
    "print(\"예제 6: 리스트 형식으로 응답받기\")\n",
    "task_list_obj = get_task_list(\"새로운 쇼핑몰 웹사이트 개발 프로젝트 시작\")\n",
    "\n",
    "for task in task_list_obj.tasks:\n",
    "    print(f\"- [우선순위: {task.priority}] {task.title}\")"
   ]
  },
  {
   "cell_type": "code",
   "execution_count": null,
   "metadata": {},
   "outputs": [],
   "source": []
  }
 ],
 "metadata": {
  "kernelspec": {
   "display_name": "lecture",
   "language": "python",
   "name": "lecture"
  },
  "language_info": {
   "codemirror_mode": {
    "name": "ipython",
    "version": 3
   },
   "file_extension": ".py",
   "mimetype": "text/x-python",
   "name": "python",
   "nbconvert_exporter": "python",
   "pygments_lexer": "ipython3",
   "version": "3.11.7"
  }
 },
 "nbformat": 4,
 "nbformat_minor": 4
}
